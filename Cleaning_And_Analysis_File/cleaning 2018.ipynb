{
 "cells": [
  {
   "cell_type": "markdown",
   "id": "2c4898cc",
   "metadata": {},
   "source": [
    "Importing Pandas"
   ]
  },
  {
   "cell_type": "code",
   "execution_count": 1,
   "id": "8475e014",
   "metadata": {},
   "outputs": [],
   "source": [
    "import pandas as pd"
   ]
  },
  {
   "cell_type": "markdown",
   "id": "0ea0403e",
   "metadata": {},
   "source": [
    "Loading the data set"
   ]
  },
  {
   "cell_type": "code",
   "execution_count": 2,
   "id": "4c0564f5",
   "metadata": {},
   "outputs": [],
   "source": [
    "df = pd.read_csv(\"startup_funding2018.csv\")"
   ]
  },
  {
   "cell_type": "code",
   "execution_count": 3,
   "id": "14109042",
   "metadata": {},
   "outputs": [
    {
     "data": {
      "text/html": [
       "<div>\n",
       "<style scoped>\n",
       "    .dataframe tbody tr th:only-of-type {\n",
       "        vertical-align: middle;\n",
       "    }\n",
       "\n",
       "    .dataframe tbody tr th {\n",
       "        vertical-align: top;\n",
       "    }\n",
       "\n",
       "    .dataframe thead th {\n",
       "        text-align: right;\n",
       "    }\n",
       "</style>\n",
       "<table border=\"1\" class=\"dataframe\">\n",
       "  <thead>\n",
       "    <tr style=\"text-align: right;\">\n",
       "      <th></th>\n",
       "      <th>Company Name</th>\n",
       "      <th>Industry</th>\n",
       "      <th>Round/Series</th>\n",
       "      <th>Amount</th>\n",
       "      <th>Location</th>\n",
       "      <th>About Company</th>\n",
       "    </tr>\n",
       "  </thead>\n",
       "  <tbody>\n",
       "    <tr>\n",
       "      <th>0</th>\n",
       "      <td>TheCollegeFever</td>\n",
       "      <td>Brand Marketing, Event Promotion, Marketing, S...</td>\n",
       "      <td>Seed</td>\n",
       "      <td>250000</td>\n",
       "      <td>Bangalore, Karnataka, India</td>\n",
       "      <td>TheCollegeFever is a hub for fun, fiesta and f...</td>\n",
       "    </tr>\n",
       "    <tr>\n",
       "      <th>1</th>\n",
       "      <td>Happy Cow Dairy</td>\n",
       "      <td>Agriculture, Farming</td>\n",
       "      <td>Seed</td>\n",
       "      <td>₹40,000,000</td>\n",
       "      <td>Mumbai, Maharashtra, India</td>\n",
       "      <td>A startup which aggregates milk from dairy far...</td>\n",
       "    </tr>\n",
       "    <tr>\n",
       "      <th>2</th>\n",
       "      <td>MyLoanCare</td>\n",
       "      <td>Credit, Financial Services, Lending, Marketplace</td>\n",
       "      <td>Series A</td>\n",
       "      <td>₹65,000,000</td>\n",
       "      <td>Gurgaon, Haryana, India</td>\n",
       "      <td>Leading Online Loans Marketplace in India</td>\n",
       "    </tr>\n",
       "    <tr>\n",
       "      <th>3</th>\n",
       "      <td>PayMe India</td>\n",
       "      <td>Financial Services, FinTech</td>\n",
       "      <td>Angel</td>\n",
       "      <td>2000000</td>\n",
       "      <td>Noida, Uttar Pradesh, India</td>\n",
       "      <td>PayMe India is an innovative FinTech organizat...</td>\n",
       "    </tr>\n",
       "    <tr>\n",
       "      <th>4</th>\n",
       "      <td>Eunimart</td>\n",
       "      <td>E-Commerce Platforms, Retail, SaaS</td>\n",
       "      <td>Seed</td>\n",
       "      <td>—</td>\n",
       "      <td>Hyderabad, Andhra Pradesh, India</td>\n",
       "      <td>Eunimart is a one stop solution for merchants ...</td>\n",
       "    </tr>\n",
       "  </tbody>\n",
       "</table>\n",
       "</div>"
      ],
      "text/plain": [
       "      Company Name                                           Industry  \\\n",
       "0  TheCollegeFever  Brand Marketing, Event Promotion, Marketing, S...   \n",
       "1  Happy Cow Dairy                               Agriculture, Farming   \n",
       "2       MyLoanCare   Credit, Financial Services, Lending, Marketplace   \n",
       "3      PayMe India                        Financial Services, FinTech   \n",
       "4         Eunimart                 E-Commerce Platforms, Retail, SaaS   \n",
       "\n",
       "  Round/Series       Amount                          Location  \\\n",
       "0         Seed       250000       Bangalore, Karnataka, India   \n",
       "1         Seed  ₹40,000,000        Mumbai, Maharashtra, India   \n",
       "2     Series A  ₹65,000,000           Gurgaon, Haryana, India   \n",
       "3        Angel      2000000       Noida, Uttar Pradesh, India   \n",
       "4         Seed            —  Hyderabad, Andhra Pradesh, India   \n",
       "\n",
       "                                       About Company  \n",
       "0  TheCollegeFever is a hub for fun, fiesta and f...  \n",
       "1  A startup which aggregates milk from dairy far...  \n",
       "2          Leading Online Loans Marketplace in India  \n",
       "3  PayMe India is an innovative FinTech organizat...  \n",
       "4  Eunimart is a one stop solution for merchants ...  "
      ]
     },
     "execution_count": 3,
     "metadata": {},
     "output_type": "execute_result"
    }
   ],
   "source": [
    "df.head()"
   ]
  },
  {
   "cell_type": "markdown",
   "id": "6def86ab",
   "metadata": {},
   "source": [
    "# Handling column \"Amount\"\n",
    "Handling the column called \"Amount\". It contains two types of curency Indian and United state. For this situation we can group them into a single currency, to United State ($)."
   ]
  },
  {
   "cell_type": "code",
   "execution_count": 4,
   "id": "55d6da95",
   "metadata": {},
   "outputs": [],
   "source": [
    "df.Amount = df.Amount.apply(lambda x: x.replace(\",\",\"\"))  # removing comma from the string"
   ]
  },
  {
   "cell_type": "code",
   "execution_count": 5,
   "id": "96cf04ba",
   "metadata": {},
   "outputs": [],
   "source": [
    "df.Amount = df.Amount.apply(lambda x: x.replace(\"—\",\"0\"))  # removing comma from the string"
   ]
  },
  {
   "cell_type": "code",
   "execution_count": 6,
   "id": "bddb0f58",
   "metadata": {},
   "outputs": [
    {
     "data": {
      "text/plain": [
       "0         250000\n",
       "1      ₹40000000\n",
       "2      ₹65000000\n",
       "3        2000000\n",
       "4              0\n",
       "         ...    \n",
       "521    225000000\n",
       "522            0\n",
       "523         7500\n",
       "524    ₹35000000\n",
       "525     35000000\n",
       "Name: Amount, Length: 526, dtype: object"
      ]
     },
     "execution_count": 6,
     "metadata": {},
     "output_type": "execute_result"
    }
   ],
   "source": [
    "df.Amount"
   ]
  },
  {
   "cell_type": "markdown",
   "id": "9f976302",
   "metadata": {},
   "source": [
    "Now we are going to create a function inorder to change USD exchange rate to indians rupees."
   ]
  },
  {
   "cell_type": "code",
   "execution_count": 7,
   "id": "9af2d030",
   "metadata": {},
   "outputs": [],
   "source": [
    "# A function for changing the currency to usa\n",
    "def change_to_usa(cell, loc):\n",
    "    \n",
    "    cell_2 = \"\"\n",
    "    cell_1 = cell[1:]  # removing the dollar sign using slice method\n",
    "    \n",
    "    # check if there is space at the first character\n",
    "    if cell_1[0] == \" \":\n",
    "        cell_2 = cell_1[1:] # removing space character\n",
    "    else:\n",
    "        cell_2 = cell_1\n",
    "        \n",
    "        print(cell_2)\n",
    "    \n",
    "    converted = float(cell_2) # convert the value to float\n",
    "    print(converted,loc)\n",
    "    \n",
    "    df[\"Amount\"][loc] = converted * 0.012 # changing the currency to indians rupees and assigning to its own place in dataframe\n"
   ]
  },
  {
   "cell_type": "markdown",
   "id": "914b6c50",
   "metadata": {},
   "source": [
    "Now we declare a function for controlling the currency and handle the rest of errors"
   ]
  },
  {
   "cell_type": "code",
   "execution_count": 8,
   "id": "56d9752f",
   "metadata": {},
   "outputs": [
    {
     "name": "stdout",
     "output_type": "stream",
     "text": [
      "40000000.0 1\n",
      "65000000.0 2\n",
      "16000000.0 6\n",
      "50000000.0 7\n",
      "100000000.0 15\n",
      "500000.0 19\n",
      "35000000.0 22\n",
      "64000000.0 23\n",
      "20000000.0 30\n",
      "30000000.0 37\n",
      "40000000.0 42\n",
      "5000000.0 49\n",
      "20000000.0 50\n",
      "40000000.0 51\n",
      "20000000.0 52\n",
      "12500000.0 54\n",
      "15000000.0 55\n",
      "104000000.0 58\n",
      "45000000.0 59\n",
      "25000000.0 64\n",
      "26400000.0 66\n",
      "8000000.0 69\n",
      "60000.0 70\n",
      "34000000.0 83\n",
      "342000000.0 85\n",
      "143145\n",
      "143145.0 86\n",
      "600000000.0 88\n",
      "742000000\n",
      "742000000.0 90\n",
      "1000000000.0 91\n",
      "2000000000.0 92\n",
      "3980000\n",
      "3980000.0 93\n",
      "2000000000.0 94\n",
      "10000\n",
      "10000.0 95\n",
      "1000000000.0 97\n",
      "100000.0 98\n",
      "250000000.0 99\n",
      "2000000000.0 100\n",
      "1000000000\n",
      "1000000000.0 101\n",
      "7000000\n",
      "7000000.0 102\n",
      "35000000\n",
      "35000000.0 104\n",
      "550000000.0 105\n",
      "28500000\n",
      "28500000.0 106\n",
      "30000000.0 107\n",
      "2000000\n",
      "2000000.0 108\n",
      "240000000.0 109\n",
      "120000000.0 113\n",
      "2400000\n",
      "2400000.0 114\n",
      "30000000\n",
      "30000000.0 115\n",
      "2500000000.0 116\n",
      "23000000\n",
      "23000000.0 117\n",
      "150000\n",
      "150000.0 119\n",
      "11000000\n",
      "11000000.0 122\n",
      "44000000.0 123\n",
      "3240000\n",
      "3240000.0 124\n",
      "60000000.0 126\n",
      "2500000000.0 127\n",
      "540000000\n",
      "540000000.0 130\n",
      "650000000.0 131\n",
      "1600000000.0 132\n",
      "900000\n",
      "900000.0 134\n",
      "10000000\n",
      "10000000.0 135\n",
      "1500000\n",
      "1500000.0 138\n",
      "50000000.0 140\n",
      "70000000.0 141\n",
      "1000000\n",
      "1000000.0 143\n",
      "5000000\n",
      "5000000.0 144\n",
      "16000000.0 145\n",
      "14000000\n",
      "14000000.0 146\n",
      "102500000.0 147\n",
      "100000000\n",
      "100000000.0 148\n",
      "550000000.0 149\n",
      "20000000.0 151\n",
      "2000000\n",
      "2000000.0 152\n",
      "1200000.0 154\n",
      "250000000.0 155\n",
      "5200000000.0 156\n",
      "800000\n",
      "800000.0 159\n",
      "1041000\n",
      "1041000.0 160\n",
      "100000\n",
      "100000.0 161\n",
      "100000\n",
      "100000.0 162\n",
      "100000.0 164\n",
      "15000\n",
      "15000.0 166\n",
      "50000000.0 171\n",
      "100000000.0 177\n",
      "9500000.0 185\n",
      "150000000.0 193\n",
      "7000000.0 210\n",
      "1400000.0 211\n",
      "50000000.0 215\n",
      "10000000.0 220\n",
      "22500000.0 221\n",
      "5000000.0 222\n",
      "50000000.0 231\n",
      "140200000.0 233\n",
      "30000000.0 240\n",
      "19200000.0 241\n",
      "103000000.0 242\n",
      "40000000.0 244\n",
      "35000000.0 251\n",
      "100000000.0 253\n",
      "200000.0 258\n",
      "16600000.0 268\n",
      "12000000.0 269\n",
      "20000000.0 273\n",
      "30000000.0 276\n",
      "33000000.0 283\n",
      "34900000.0 295\n",
      "72000000.0 298\n",
      "50000000.0 299\n",
      "120000000.0 303\n",
      "35000000.0 308\n",
      "32000000.0 309\n",
      "250000000.0 312\n",
      "135000000.0 315\n",
      "15000000.0 329\n",
      "20000000.0 330\n",
      "10000000.0 333\n",
      "135000000.0 334\n",
      "50000000.0 336\n",
      "20000000.0 337\n",
      "64000000.0 341\n",
      "50000000.0 342\n",
      "10000000\n",
      "10000000.0 349\n",
      "40000000.0 350\n",
      "40000000\n",
      "40000000.0 351\n",
      "1100000\n",
      "1100000.0 353\n",
      "50000000\n",
      "50000000.0 354\n",
      "1500000\n",
      "1500000.0 355\n",
      "1540000000.0 356\n",
      "3000000\n",
      "3000000.0 358\n",
      "45000000.0 359\n",
      "100000000\n",
      "100000000.0 360\n",
      "1500000\n",
      "1500000.0 361\n",
      "6000000\n",
      "6000000.0 362\n",
      "140000000.0 363\n",
      "60000000.0 364\n",
      "3000000\n",
      "3000000.0 365\n",
      "100000\n",
      "100000.0 367\n",
      "5000000.0 368\n",
      "41900000\n",
      "41900000.0 369\n",
      "11000000\n",
      "11000000.0 370\n",
      "100000000\n",
      "100000000.0 372\n",
      "1410000000.0 373\n",
      "3530000\n",
      "3530000.0 375\n",
      "72000000.0 376\n",
      "200000\n",
      "200000.0 377\n",
      "3300000\n",
      "3300000.0 378\n",
      "240000000.0 379\n",
      "1000000\n",
      "1000000.0 380\n",
      "580000000.0 382\n",
      "2000000\n",
      "2000000.0 384\n",
      "100000\n",
      "100000.0 385\n",
      "6000000\n",
      "6000000.0 386\n",
      "36000000.0 387\n",
      "340000000.0 388\n",
      "210000000\n",
      "210000000.0 389\n",
      "35000000.0 390\n",
      "70000000.0 391\n",
      "11000000\n",
      "11000000.0 392\n",
      "50000000.0 394\n",
      "70000000.0 395\n",
      "5000000\n",
      "5000000.0 396\n",
      "37680000\n",
      "37680000.0 397\n",
      "50000000\n",
      "50000000.0 399\n",
      "1000000\n",
      "1000000.0 400\n",
      "250000\n",
      "250000.0 401\n",
      "20000\n",
      "20000.0 403\n",
      "900000\n",
      "900000.0 404\n",
      "1200000.0 406\n",
      "40000000.0 410\n",
      "510000000.0 411\n",
      "2200000000.0 412\n",
      "15392000000.0 420\n",
      "20000000000.0 421\n",
      "4000000000.0 422\n",
      "25000000.0 424\n",
      "140000000.0 426\n",
      "165000000.0 437\n",
      "650000000.0 438\n",
      "210000000.0 443\n",
      "20000000.0 447\n",
      "2029600000.0 448\n",
      "600000000.0 450\n",
      "80000000.0 452\n",
      "280000000.0 456\n",
      "800000000.0 457\n",
      "730000000.0 464\n",
      "400000000.0 469\n",
      "600000000.0 470\n",
      "140000000.0 474\n",
      "260000000.0 476\n",
      "150000000.0 478\n",
      "12000000.0 481\n",
      "400000000.0 488\n",
      "8750000.0 496\n",
      "78000000.0 500\n",
      "12500000.0 507\n",
      "264000000.0 509\n",
      "1130000000.0 513\n",
      "810000000.0 514\n",
      "1400000000.0 516\n",
      "10000000.0 517\n",
      "35000000.0 524\n"
     ]
    }
   ],
   "source": [
    "# Loop through the column\n",
    "for i in range(df.shape[0]):\n",
    "    if df[\"Amount\"][i][0] == '$':\n",
    "        \n",
    "        change_to_usa(df[\"Amount\"][i], i ) # function calling\n",
    "        continue\n",
    "        \n",
    "    if df[\"Amount\"][i][0] == '₹':\n",
    "        \n",
    "            \n",
    "        result = df[\"Amount\"][i].replace(\"₹\",\"\")\n",
    "        \n",
    "        converted = float(result)\n",
    "        print(converted,i)\n",
    "    \n",
    "        df[\"Amount\"][i] = converted # assigning to the correct place in the dataframe"
   ]
  },
  {
   "cell_type": "markdown",
   "id": "7f696d62",
   "metadata": {},
   "source": [
    "Finally we can convert our column type to float"
   ]
  },
  {
   "cell_type": "code",
   "execution_count": 9,
   "id": "eec88df2",
   "metadata": {},
   "outputs": [
    {
     "data": {
      "text/plain": [
       "Index(['Company Name', 'Industry', 'Round/Series', 'Amount', 'Location',\n",
       "       'About Company'],\n",
       "      dtype='object')"
      ]
     },
     "execution_count": 9,
     "metadata": {},
     "output_type": "execute_result"
    }
   ],
   "source": [
    "df.columns"
   ]
  },
  {
   "cell_type": "code",
   "execution_count": 10,
   "id": "3d572efd",
   "metadata": {},
   "outputs": [],
   "source": [
    "df.Amount = df[\"Amount\"].astype(float)"
   ]
  },
  {
   "cell_type": "code",
   "execution_count": 11,
   "id": "bb8cd280",
   "metadata": {},
   "outputs": [
    {
     "name": "stdout",
     "output_type": "stream",
     "text": [
      "<class 'pandas.core.frame.DataFrame'>\n",
      "RangeIndex: 526 entries, 0 to 525\n",
      "Data columns (total 6 columns):\n",
      " #   Column         Non-Null Count  Dtype  \n",
      "---  ------         --------------  -----  \n",
      " 0   Company Name   526 non-null    object \n",
      " 1   Industry       526 non-null    object \n",
      " 2   Round/Series   526 non-null    object \n",
      " 3   Amount         526 non-null    float64\n",
      " 4   Location       526 non-null    object \n",
      " 5   About Company  526 non-null    object \n",
      "dtypes: float64(1), object(5)\n",
      "memory usage: 24.8+ KB\n"
     ]
    }
   ],
   "source": [
    "df.info()"
   ]
  },
  {
   "cell_type": "markdown",
   "id": "c58ccedb",
   "metadata": {},
   "source": [
    "# Handling Column \"Round/Series\""
   ]
  },
  {
   "cell_type": "code",
   "execution_count": 12,
   "id": "59a6c469",
   "metadata": {},
   "outputs": [],
   "source": [
    "df.rename(columns = { \"Round/Series\" : \"Series\"}, inplace=True) # rename the column"
   ]
  },
  {
   "cell_type": "markdown",
   "id": "ac197ce8",
   "metadata": {},
   "source": [
    "In column \"Series\" there is one cell with unexpected value. For handling this cell we can replace it with the most frequent category from the column."
   ]
  },
  {
   "cell_type": "code",
   "execution_count": 13,
   "id": "97f8a2fa",
   "metadata": {},
   "outputs": [],
   "source": [
    "most_frequent_category=df.Series.mode()[0] # extracting  the most frequentedly recorded value"
   ]
  },
  {
   "cell_type": "code",
   "execution_count": 14,
   "id": "1f9863f5",
   "metadata": {},
   "outputs": [
    {
     "data": {
      "text/plain": [
       "'Seed'"
      ]
     },
     "execution_count": 14,
     "metadata": {},
     "output_type": "execute_result"
    }
   ],
   "source": [
    "most_frequent_category"
   ]
  },
  {
   "cell_type": "code",
   "execution_count": 15,
   "id": "d0072623",
   "metadata": {},
   "outputs": [],
   "source": [
    "value_index = df[df.Series.str.startswith(\"http\")].index # searching for the value and taking the index"
   ]
  },
  {
   "cell_type": "code",
   "execution_count": 16,
   "id": "fb149f94",
   "metadata": {},
   "outputs": [
    {
     "data": {
      "text/plain": [
       "Int64Index([178], dtype='int64')"
      ]
     },
     "execution_count": 16,
     "metadata": {},
     "output_type": "execute_result"
    }
   ],
   "source": [
    "value_index"
   ]
  },
  {
   "cell_type": "code",
   "execution_count": 17,
   "id": "0f75ecc0",
   "metadata": {},
   "outputs": [
    {
     "name": "stderr",
     "output_type": "stream",
     "text": [
      "C:\\Users\\hp\\AppData\\Local\\Temp\\ipykernel_9332\\2782197659.py:1: SettingWithCopyWarning: \n",
      "A value is trying to be set on a copy of a slice from a DataFrame\n",
      "\n",
      "See the caveats in the documentation: https://pandas.pydata.org/pandas-docs/stable/user_guide/indexing.html#returning-a-view-versus-a-copy\n",
      "  df.Series[178] = \"Seed\" # assigning the value\n"
     ]
    }
   ],
   "source": [
    "df.Series[178] = \"Seed\" # assigning the value"
   ]
  },
  {
   "cell_type": "code",
   "execution_count": 18,
   "id": "80ecb5e2",
   "metadata": {},
   "outputs": [
    {
     "data": {
      "text/plain": [
       "'Seed'"
      ]
     },
     "execution_count": 18,
     "metadata": {},
     "output_type": "execute_result"
    }
   ],
   "source": [
    "df.Series[178] "
   ]
  },
  {
   "cell_type": "markdown",
   "id": "35008f8d",
   "metadata": {},
   "source": [
    "# Handling column \"Location\""
   ]
  },
  {
   "cell_type": "markdown",
   "id": "f8ee59fa",
   "metadata": {},
   "source": [
    "This column has from one to three places inside one cell. we need to place them inside new columns."
   ]
  },
  {
   "cell_type": "code",
   "execution_count": 19,
   "id": "39346577",
   "metadata": {},
   "outputs": [],
   "source": [
    "df[['City','Sub city', \"Country\"]] = df['Location'].str.split(',',expand=True)"
   ]
  },
  {
   "cell_type": "markdown",
   "id": "46621fa5",
   "metadata": {},
   "source": [
    "## 1. Handling column \"City\""
   ]
  },
  {
   "cell_type": "code",
   "execution_count": 20,
   "id": "d7ea3e7c",
   "metadata": {},
   "outputs": [
    {
     "data": {
      "text/plain": [
       "array(['Bangalore', 'Mumbai', 'Gurgaon', 'Noida', 'Hyderabad',\n",
       "       'Bengaluru', 'Kalkaji', 'Delhi', 'India', 'Hubli', 'New Delhi',\n",
       "       'Chennai', 'Mohali', 'Kolkata', 'Pune', 'Jodhpur', 'Kanpur',\n",
       "       'Ahmedabad', 'Azadpur', 'Haryana', 'Cochin', 'Faridabad', 'Jaipur',\n",
       "       'Kota', 'Anand', 'Bangalore City', 'Belgaum', 'Thane', 'Margão',\n",
       "       'Indore', 'Alwar', 'Kannur', 'Trivandrum', 'Ernakulam',\n",
       "       'Kormangala', 'Uttar Pradesh', 'Andheri', 'Mylapore', 'Ghaziabad',\n",
       "       'Kochi', 'Powai', 'Guntur', 'Kalpakkam', 'Bhopal', 'Coimbatore',\n",
       "       'Worli', 'Alleppey', 'Chandigarh', 'Guindy', 'Lucknow'],\n",
       "      dtype=object)"
      ]
     },
     "execution_count": 20,
     "metadata": {},
     "output_type": "execute_result"
    }
   ],
   "source": [
    "df[\"City\"].unique()"
   ]
  },
  {
   "cell_type": "markdown",
   "id": "d63bdd0a",
   "metadata": {},
   "source": [
    "As we can see \"India\" is also recorded as a city. So we replace it with the most frequesnt one."
   ]
  },
  {
   "cell_type": "code",
   "execution_count": 21,
   "id": "43db2a0b",
   "metadata": {},
   "outputs": [],
   "source": [
    "most_frequent_category = df.City.mode()[0] # extracting  the most frequentedly recorded value"
   ]
  },
  {
   "cell_type": "code",
   "execution_count": 22,
   "id": "107874fa",
   "metadata": {},
   "outputs": [
    {
     "data": {
      "text/plain": [
       "'Bangalore'"
      ]
     },
     "execution_count": 22,
     "metadata": {},
     "output_type": "execute_result"
    }
   ],
   "source": [
    "most_frequent_category"
   ]
  },
  {
   "cell_type": "code",
   "execution_count": 23,
   "id": "db1d4c1a",
   "metadata": {},
   "outputs": [],
   "source": [
    "df['City'] = df['City'].apply(lambda x: most_frequent_category if x == \"India\" else x) # replacing values (India) with the frequent one"
   ]
  },
  {
   "cell_type": "code",
   "execution_count": 24,
   "id": "bd92bb31",
   "metadata": {},
   "outputs": [
    {
     "data": {
      "text/plain": [
       "array(['Bangalore', 'Mumbai', 'Gurgaon', 'Noida', 'Hyderabad',\n",
       "       'Bengaluru', 'Kalkaji', 'Delhi', 'Hubli', 'New Delhi', 'Chennai',\n",
       "       'Mohali', 'Kolkata', 'Pune', 'Jodhpur', 'Kanpur', 'Ahmedabad',\n",
       "       'Azadpur', 'Haryana', 'Cochin', 'Faridabad', 'Jaipur', 'Kota',\n",
       "       'Anand', 'Bangalore City', 'Belgaum', 'Thane', 'Margão', 'Indore',\n",
       "       'Alwar', 'Kannur', 'Trivandrum', 'Ernakulam', 'Kormangala',\n",
       "       'Uttar Pradesh', 'Andheri', 'Mylapore', 'Ghaziabad', 'Kochi',\n",
       "       'Powai', 'Guntur', 'Kalpakkam', 'Bhopal', 'Coimbatore', 'Worli',\n",
       "       'Alleppey', 'Chandigarh', 'Guindy', 'Lucknow'], dtype=object)"
      ]
     },
     "execution_count": 24,
     "metadata": {},
     "output_type": "execute_result"
    }
   ],
   "source": [
    "df.City.unique()"
   ]
  },
  {
   "cell_type": "markdown",
   "id": "1a68b6ec",
   "metadata": {},
   "source": [
    "## 2. Handling column \"Sub city\""
   ]
  },
  {
   "cell_type": "code",
   "execution_count": 25,
   "id": "7f9fe5a8",
   "metadata": {},
   "outputs": [
    {
     "data": {
      "text/plain": [
       "array([' Karnataka', ' Maharashtra', ' Haryana', ' Uttar Pradesh',\n",
       "       ' Andhra Pradesh', ' Delhi', ' Asia', ' Tamil Nadu', ' Punjab',\n",
       "       ' West Bengal', ' Rajasthan', ' Gujarat', ' Kerala', ' Goa',\n",
       "       ' Madhya Pradesh', ' India', ' Assam', ' Chandigarh'], dtype=object)"
      ]
     },
     "execution_count": 25,
     "metadata": {},
     "output_type": "execute_result"
    }
   ],
   "source": [
    "df[\"Sub city\"].unique()"
   ]
  },
  {
   "cell_type": "markdown",
   "id": "a98517b9",
   "metadata": {},
   "source": [
    "In this column \"Asia\" is recorded as Sub city. We need to do same thing replacing by the frequented calue"
   ]
  },
  {
   "cell_type": "code",
   "execution_count": 26,
   "id": "9e725d2f",
   "metadata": {},
   "outputs": [],
   "source": [
    "most_frequent_category=df[\"Sub city\"].mode()[0] # extracting  the most frequentedly recorded value"
   ]
  },
  {
   "cell_type": "code",
   "execution_count": 27,
   "id": "3c44c548",
   "metadata": {},
   "outputs": [
    {
     "data": {
      "text/plain": [
       "' Karnataka'"
      ]
     },
     "execution_count": 27,
     "metadata": {},
     "output_type": "execute_result"
    }
   ],
   "source": [
    "most_frequent_category"
   ]
  },
  {
   "cell_type": "code",
   "execution_count": 28,
   "id": "8c8accba",
   "metadata": {},
   "outputs": [],
   "source": [
    "df['Sub city'] = df['Sub city'].apply(lambda x: most_frequent_category if x == \"Asia\" else x) # replacing values (Asia) with the frequent one"
   ]
  },
  {
   "cell_type": "code",
   "execution_count": 29,
   "id": "8491f7ef",
   "metadata": {},
   "outputs": [
    {
     "data": {
      "text/plain": [
       "array([' Karnataka', ' Maharashtra', ' Haryana', ' Uttar Pradesh',\n",
       "       ' Andhra Pradesh', ' Delhi', ' Asia', ' Tamil Nadu', ' Punjab',\n",
       "       ' West Bengal', ' Rajasthan', ' Gujarat', ' Kerala', ' Goa',\n",
       "       ' Madhya Pradesh', ' India', ' Assam', ' Chandigarh'], dtype=object)"
      ]
     },
     "execution_count": 29,
     "metadata": {},
     "output_type": "execute_result"
    }
   ],
   "source": [
    "df[\"Sub city\"].unique()"
   ]
  },
  {
   "cell_type": "markdown",
   "id": "03878704",
   "metadata": {},
   "source": [
    "## Handling column \"Country\""
   ]
  },
  {
   "cell_type": "markdown",
   "id": "7bc338bc",
   "metadata": {},
   "source": [
    "The Data set is about india which means we do not to specify the country for each entry, because it known."
   ]
  },
  {
   "cell_type": "code",
   "execution_count": 30,
   "id": "b6c13e10",
   "metadata": {},
   "outputs": [
    {
     "data": {
      "text/plain": [
       "array([' India', None, ' Asia'], dtype=object)"
      ]
     },
     "execution_count": 30,
     "metadata": {},
     "output_type": "execute_result"
    }
   ],
   "source": [
    "df.Country.unique()"
   ]
  },
  {
   "cell_type": "markdown",
   "id": "7686866f",
   "metadata": {},
   "source": [
    "The column contains \"India\" and the continent called \"Asia\". Depending on this fact, it is better to delete this column. Because it is not providing any information. "
   ]
  },
  {
   "cell_type": "markdown",
   "id": "4590c7ae",
   "metadata": {},
   "source": [
    "In addtion, we have split the column called \"Location\". Now it is better to drop the column."
   ]
  },
  {
   "cell_type": "code",
   "execution_count": 31,
   "id": "eed16da3",
   "metadata": {},
   "outputs": [],
   "source": [
    "df.drop(['Country', 'Location'], axis=1, inplace=True)"
   ]
  },
  {
   "cell_type": "code",
   "execution_count": 32,
   "id": "22b6cb3f",
   "metadata": {},
   "outputs": [
    {
     "data": {
      "text/plain": [
       "Index(['Company Name', 'Industry', 'Series', 'Amount', 'About Company', 'City',\n",
       "       'Sub city'],\n",
       "      dtype='object')"
      ]
     },
     "execution_count": 32,
     "metadata": {},
     "output_type": "execute_result"
    }
   ],
   "source": [
    "df.columns"
   ]
  },
  {
   "cell_type": "markdown",
   "id": "ab6e13c5",
   "metadata": {},
   "source": [
    "## Handling column \"Industry\""
   ]
  },
  {
   "cell_type": "markdown",
   "id": "d27a287f",
   "metadata": {},
   "source": [
    "The industry column can be splited into industry and sector"
   ]
  },
  {
   "cell_type": "code",
   "execution_count": 33,
   "id": "8fbf4de1",
   "metadata": {},
   "outputs": [
    {
     "data": {
      "text/plain": [
       "Index(['Company Name', 'Industry', 'Series', 'Amount', 'About Company', 'City',\n",
       "       'Sub city'],\n",
       "      dtype='object')"
      ]
     },
     "execution_count": 33,
     "metadata": {},
     "output_type": "execute_result"
    }
   ],
   "source": [
    "df.columns"
   ]
  },
  {
   "cell_type": "code",
   "execution_count": 34,
   "id": "c82a7ca3",
   "metadata": {},
   "outputs": [],
   "source": [
    "df[['Industry', 'Sector']] = df['Industry'].str.split(',', n=1, expand=True) # splitting the column into \"Industry\" and \"Sector\""
   ]
  },
  {
   "cell_type": "code",
   "execution_count": 35,
   "id": "df366b6a",
   "metadata": {},
   "outputs": [
    {
     "data": {
      "text/plain": [
       "0"
      ]
     },
     "execution_count": 35,
     "metadata": {},
     "output_type": "execute_result"
    }
   ],
   "source": [
    "df.Industry.isna().sum()"
   ]
  },
  {
   "cell_type": "code",
   "execution_count": 36,
   "id": "6fa8e5bb",
   "metadata": {},
   "outputs": [
    {
     "data": {
      "text/plain": [
       "Index(['Company Name', 'Industry', 'Series', 'Amount', 'About Company', 'City',\n",
       "       'Sub city', 'Sector'],\n",
       "      dtype='object')"
      ]
     },
     "execution_count": 36,
     "metadata": {},
     "output_type": "execute_result"
    }
   ],
   "source": [
    "df.columns"
   ]
  },
  {
   "cell_type": "markdown",
   "id": "e4981a5e",
   "metadata": {},
   "source": [
    "# removing duplicate values"
   ]
  },
  {
   "cell_type": "code",
   "execution_count": 37,
   "id": "6831a077",
   "metadata": {},
   "outputs": [],
   "source": [
    "df = df.drop_duplicates()"
   ]
  },
  {
   "cell_type": "code",
   "execution_count": 38,
   "id": "40c62447",
   "metadata": {},
   "outputs": [
    {
     "data": {
      "text/plain": [
       "Index(['Company Name', 'Industry', 'Series', 'Amount', 'About Company', 'City',\n",
       "       'Sub city', 'Sector'],\n",
       "      dtype='object')"
      ]
     },
     "execution_count": 38,
     "metadata": {},
     "output_type": "execute_result"
    }
   ],
   "source": [
    "df.columns"
   ]
  },
  {
   "cell_type": "code",
   "execution_count": 42,
   "id": "e388a802",
   "metadata": {},
   "outputs": [],
   "source": [
    "df = df.rename(columns = {'Company Name' : \"Company/Brand\", 'About Company': \"What it does\", 'Amount': \"Amount($)\"})"
   ]
  },
  {
   "cell_type": "code",
   "execution_count": 43,
   "id": "42f6af50",
   "metadata": {},
   "outputs": [
    {
     "data": {
      "text/plain": [
       "Index(['Company/Brand', 'Industry', 'Series', 'Amount($)', 'What it does',\n",
       "       'City', 'Sub city', 'Sector'],\n",
       "      dtype='object')"
      ]
     },
     "execution_count": 43,
     "metadata": {},
     "output_type": "execute_result"
    }
   ],
   "source": [
    "df.columns"
   ]
  },
  {
   "cell_type": "markdown",
   "id": "251971d2",
   "metadata": {},
   "source": [
    "# Exporting the file"
   ]
  },
  {
   "cell_type": "code",
   "execution_count": 44,
   "id": "ee907fb2",
   "metadata": {},
   "outputs": [],
   "source": [
    "file_name = \"cleaned 2018.xlsx\"\n",
    "\n",
    "df.to_excel(file_name)"
   ]
  },
  {
   "cell_type": "code",
   "execution_count": 43,
   "id": "07824119",
   "metadata": {},
   "outputs": [
    {
     "data": {
      "text/html": [
       "<div>\n",
       "<style scoped>\n",
       "    .dataframe tbody tr th:only-of-type {\n",
       "        vertical-align: middle;\n",
       "    }\n",
       "\n",
       "    .dataframe tbody tr th {\n",
       "        vertical-align: top;\n",
       "    }\n",
       "\n",
       "    .dataframe thead th {\n",
       "        text-align: right;\n",
       "    }\n",
       "</style>\n",
       "<table border=\"1\" class=\"dataframe\">\n",
       "  <thead>\n",
       "    <tr style=\"text-align: right;\">\n",
       "      <th></th>\n",
       "      <th>Company Name</th>\n",
       "      <th>Industry</th>\n",
       "      <th>Series</th>\n",
       "      <th>Amount(₹)</th>\n",
       "      <th>About Company</th>\n",
       "      <th>City</th>\n",
       "      <th>Sub city</th>\n",
       "      <th>Sector</th>\n",
       "    </tr>\n",
       "  </thead>\n",
       "  <tbody>\n",
       "    <tr>\n",
       "      <th>0</th>\n",
       "      <td>TheCollegeFever</td>\n",
       "      <td>Brand Marketing</td>\n",
       "      <td>Seed</td>\n",
       "      <td>250000.0</td>\n",
       "      <td>TheCollegeFever is a hub for fun, fiesta and f...</td>\n",
       "      <td>Bangalore</td>\n",
       "      <td>Karnataka</td>\n",
       "      <td>Event Promotion, Marketing, Sponsorship, Tick...</td>\n",
       "    </tr>\n",
       "    <tr>\n",
       "      <th>1</th>\n",
       "      <td>Happy Cow Dairy</td>\n",
       "      <td>Agriculture</td>\n",
       "      <td>Seed</td>\n",
       "      <td>40000000.0</td>\n",
       "      <td>A startup which aggregates milk from dairy far...</td>\n",
       "      <td>Mumbai</td>\n",
       "      <td>Maharashtra</td>\n",
       "      <td>Farming</td>\n",
       "    </tr>\n",
       "    <tr>\n",
       "      <th>2</th>\n",
       "      <td>MyLoanCare</td>\n",
       "      <td>Credit</td>\n",
       "      <td>Series A</td>\n",
       "      <td>65000000.0</td>\n",
       "      <td>Leading Online Loans Marketplace in India</td>\n",
       "      <td>Gurgaon</td>\n",
       "      <td>Haryana</td>\n",
       "      <td>Financial Services, Lending, Marketplace</td>\n",
       "    </tr>\n",
       "    <tr>\n",
       "      <th>3</th>\n",
       "      <td>PayMe India</td>\n",
       "      <td>Financial Services</td>\n",
       "      <td>Angel</td>\n",
       "      <td>2000000.0</td>\n",
       "      <td>PayMe India is an innovative FinTech organizat...</td>\n",
       "      <td>Noida</td>\n",
       "      <td>Uttar Pradesh</td>\n",
       "      <td>FinTech</td>\n",
       "    </tr>\n",
       "    <tr>\n",
       "      <th>4</th>\n",
       "      <td>Eunimart</td>\n",
       "      <td>E-Commerce Platforms</td>\n",
       "      <td>Seed</td>\n",
       "      <td>0.0</td>\n",
       "      <td>Eunimart is a one stop solution for merchants ...</td>\n",
       "      <td>Hyderabad</td>\n",
       "      <td>Andhra Pradesh</td>\n",
       "      <td>Retail, SaaS</td>\n",
       "    </tr>\n",
       "    <tr>\n",
       "      <th>...</th>\n",
       "      <td>...</td>\n",
       "      <td>...</td>\n",
       "      <td>...</td>\n",
       "      <td>...</td>\n",
       "      <td>...</td>\n",
       "      <td>...</td>\n",
       "      <td>...</td>\n",
       "      <td>...</td>\n",
       "    </tr>\n",
       "    <tr>\n",
       "      <th>521</th>\n",
       "      <td>Udaan</td>\n",
       "      <td>B2B</td>\n",
       "      <td>Series C</td>\n",
       "      <td>225000000.0</td>\n",
       "      <td>Udaan is a B2B trade platform, designed specif...</td>\n",
       "      <td>Bangalore</td>\n",
       "      <td>Karnataka</td>\n",
       "      <td>Business Development, Internet, Marketplace</td>\n",
       "    </tr>\n",
       "    <tr>\n",
       "      <th>522</th>\n",
       "      <td>Happyeasygo Group</td>\n",
       "      <td>Tourism</td>\n",
       "      <td>Series A</td>\n",
       "      <td>0.0</td>\n",
       "      <td>HappyEasyGo is an online travel domain.</td>\n",
       "      <td>Haryana</td>\n",
       "      <td>Haryana</td>\n",
       "      <td>Travel</td>\n",
       "    </tr>\n",
       "    <tr>\n",
       "      <th>523</th>\n",
       "      <td>Mombay</td>\n",
       "      <td>Food and Beverage</td>\n",
       "      <td>Seed</td>\n",
       "      <td>7500.0</td>\n",
       "      <td>Mombay is a unique opportunity for housewives ...</td>\n",
       "      <td>Mumbai</td>\n",
       "      <td>Maharashtra</td>\n",
       "      <td>Food Delivery, Internet</td>\n",
       "    </tr>\n",
       "    <tr>\n",
       "      <th>524</th>\n",
       "      <td>Droni Tech</td>\n",
       "      <td>Information Technology</td>\n",
       "      <td>Seed</td>\n",
       "      <td>35000000.0</td>\n",
       "      <td>Droni Tech manufacture UAVs and develop softwa...</td>\n",
       "      <td>Mumbai</td>\n",
       "      <td>Maharashtra</td>\n",
       "      <td>None</td>\n",
       "    </tr>\n",
       "    <tr>\n",
       "      <th>525</th>\n",
       "      <td>Netmeds</td>\n",
       "      <td>Biotechnology</td>\n",
       "      <td>Series C</td>\n",
       "      <td>35000000.0</td>\n",
       "      <td>Welcome to India's most convenient pharmacy!</td>\n",
       "      <td>Chennai</td>\n",
       "      <td>Tamil Nadu</td>\n",
       "      <td>Health Care, Pharmaceutical</td>\n",
       "    </tr>\n",
       "  </tbody>\n",
       "</table>\n",
       "<p>525 rows × 8 columns</p>\n",
       "</div>"
      ],
      "text/plain": [
       "          Company Name                Industry    Series    Amount(₹)  \\\n",
       "0      TheCollegeFever         Brand Marketing      Seed     250000.0   \n",
       "1      Happy Cow Dairy             Agriculture      Seed   40000000.0   \n",
       "2           MyLoanCare                  Credit  Series A   65000000.0   \n",
       "3          PayMe India      Financial Services     Angel    2000000.0   \n",
       "4             Eunimart    E-Commerce Platforms      Seed          0.0   \n",
       "..                 ...                     ...       ...          ...   \n",
       "521              Udaan                     B2B  Series C  225000000.0   \n",
       "522  Happyeasygo Group                 Tourism  Series A          0.0   \n",
       "523             Mombay       Food and Beverage      Seed       7500.0   \n",
       "524         Droni Tech  Information Technology      Seed   35000000.0   \n",
       "525            Netmeds           Biotechnology  Series C   35000000.0   \n",
       "\n",
       "                                         About Company       City  \\\n",
       "0    TheCollegeFever is a hub for fun, fiesta and f...  Bangalore   \n",
       "1    A startup which aggregates milk from dairy far...     Mumbai   \n",
       "2            Leading Online Loans Marketplace in India    Gurgaon   \n",
       "3    PayMe India is an innovative FinTech organizat...      Noida   \n",
       "4    Eunimart is a one stop solution for merchants ...  Hyderabad   \n",
       "..                                                 ...        ...   \n",
       "521  Udaan is a B2B trade platform, designed specif...  Bangalore   \n",
       "522            HappyEasyGo is an online travel domain.    Haryana   \n",
       "523  Mombay is a unique opportunity for housewives ...     Mumbai   \n",
       "524  Droni Tech manufacture UAVs and develop softwa...     Mumbai   \n",
       "525       Welcome to India's most convenient pharmacy!    Chennai   \n",
       "\n",
       "            Sub city                                             Sector  \n",
       "0          Karnataka   Event Promotion, Marketing, Sponsorship, Tick...  \n",
       "1        Maharashtra                                            Farming  \n",
       "2            Haryana           Financial Services, Lending, Marketplace  \n",
       "3      Uttar Pradesh                                            FinTech  \n",
       "4     Andhra Pradesh                                       Retail, SaaS  \n",
       "..               ...                                                ...  \n",
       "521        Karnataka        Business Development, Internet, Marketplace  \n",
       "522          Haryana                                             Travel  \n",
       "523      Maharashtra                            Food Delivery, Internet  \n",
       "524      Maharashtra                                               None  \n",
       "525       Tamil Nadu                        Health Care, Pharmaceutical  \n",
       "\n",
       "[525 rows x 8 columns]"
      ]
     },
     "execution_count": 43,
     "metadata": {},
     "output_type": "execute_result"
    }
   ],
   "source": [
    "df"
   ]
  },
  {
   "cell_type": "markdown",
   "id": "d43ff586",
   "metadata": {},
   "source": [
    "## Finally we have removed, in excel side, Column1 "
   ]
  }
 ],
 "metadata": {
  "kernelspec": {
   "display_name": "Python 3 (ipykernel)",
   "language": "python",
   "name": "python3"
  },
  "language_info": {
   "codemirror_mode": {
    "name": "ipython",
    "version": 3
   },
   "file_extension": ".py",
   "mimetype": "text/x-python",
   "name": "python",
   "nbconvert_exporter": "python",
   "pygments_lexer": "ipython3",
   "version": "3.9.13"
  }
 },
 "nbformat": 4,
 "nbformat_minor": 5
}
