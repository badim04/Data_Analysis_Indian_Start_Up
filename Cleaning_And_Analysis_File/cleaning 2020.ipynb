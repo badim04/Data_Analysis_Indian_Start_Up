{
 "cells": [
  {
   "cell_type": "markdown",
   "id": "4835c1fc",
   "metadata": {},
   "source": [
    "Importing pandas"
   ]
  },
  {
   "cell_type": "code",
   "execution_count": 1,
   "id": "833b382f",
   "metadata": {},
   "outputs": [],
   "source": [
    "import pandas as pd"
   ]
  },
  {
   "cell_type": "markdown",
   "id": "f6ce1e58",
   "metadata": {},
   "source": [
    "Loading data"
   ]
  },
  {
   "cell_type": "code",
   "execution_count": 2,
   "id": "91466d44",
   "metadata": {},
   "outputs": [],
   "source": [
    "df = pd.read_csv(\"startup_funding2020.csv\")"
   ]
  },
  {
   "cell_type": "code",
   "execution_count": 3,
   "id": "75723269",
   "metadata": {},
   "outputs": [
    {
     "data": {
      "text/html": [
       "<div>\n",
       "<style scoped>\n",
       "    .dataframe tbody tr th:only-of-type {\n",
       "        vertical-align: middle;\n",
       "    }\n",
       "\n",
       "    .dataframe tbody tr th {\n",
       "        vertical-align: top;\n",
       "    }\n",
       "\n",
       "    .dataframe thead th {\n",
       "        text-align: right;\n",
       "    }\n",
       "</style>\n",
       "<table border=\"1\" class=\"dataframe\">\n",
       "  <thead>\n",
       "    <tr style=\"text-align: right;\">\n",
       "      <th></th>\n",
       "      <th>Company/Brand</th>\n",
       "      <th>Founded</th>\n",
       "      <th>HeadQuarter</th>\n",
       "      <th>Sector</th>\n",
       "      <th>What it does</th>\n",
       "      <th>Founders</th>\n",
       "      <th>Investor</th>\n",
       "      <th>Amount($)</th>\n",
       "      <th>Stage</th>\n",
       "      <th>Column1</th>\n",
       "    </tr>\n",
       "  </thead>\n",
       "  <tbody>\n",
       "    <tr>\n",
       "      <th>0</th>\n",
       "      <td>Aqgromalin</td>\n",
       "      <td>2019</td>\n",
       "      <td>Chennai</td>\n",
       "      <td>AgriTech</td>\n",
       "      <td>Cultivating Ideas for Profit</td>\n",
       "      <td>Prasanna Manogaran, Bharani C L</td>\n",
       "      <td>Angel investors</td>\n",
       "      <td>$200,000</td>\n",
       "      <td>NaN</td>\n",
       "      <td>NaN</td>\n",
       "    </tr>\n",
       "    <tr>\n",
       "      <th>1</th>\n",
       "      <td>Krayonnz</td>\n",
       "      <td>2019</td>\n",
       "      <td>Bangalore</td>\n",
       "      <td>EdTech</td>\n",
       "      <td>An academy-guardian-scholar centric ecosystem ...</td>\n",
       "      <td>Saurabh Dixit, Gurudutt Upadhyay</td>\n",
       "      <td>GSF Accelerator</td>\n",
       "      <td>$100,000</td>\n",
       "      <td>Pre-seed</td>\n",
       "      <td>NaN</td>\n",
       "    </tr>\n",
       "    <tr>\n",
       "      <th>2</th>\n",
       "      <td>PadCare Labs</td>\n",
       "      <td>2018</td>\n",
       "      <td>Pune</td>\n",
       "      <td>Hygiene management</td>\n",
       "      <td>Converting bio-hazardous waste to harmless waste</td>\n",
       "      <td>Ajinkya Dhariya</td>\n",
       "      <td>Venture Center</td>\n",
       "      <td>Undisclosed</td>\n",
       "      <td>Pre-seed</td>\n",
       "      <td>NaN</td>\n",
       "    </tr>\n",
       "    <tr>\n",
       "      <th>3</th>\n",
       "      <td>NCOME</td>\n",
       "      <td>2020</td>\n",
       "      <td>New Delhi</td>\n",
       "      <td>Escrow</td>\n",
       "      <td>Escrow-as-a-service platform</td>\n",
       "      <td>Ritesh Tiwari</td>\n",
       "      <td>Venture Catalysts, PointOne Capital</td>\n",
       "      <td>$400,000</td>\n",
       "      <td>NaN</td>\n",
       "      <td>NaN</td>\n",
       "    </tr>\n",
       "    <tr>\n",
       "      <th>4</th>\n",
       "      <td>Gramophone</td>\n",
       "      <td>2016</td>\n",
       "      <td>Indore</td>\n",
       "      <td>AgriTech</td>\n",
       "      <td>Gramophone is an AgTech platform enabling acce...</td>\n",
       "      <td>Ashish Rajan Singh, Harshit Gupta, Nishant Mah...</td>\n",
       "      <td>Siana Capital Management, Info Edge</td>\n",
       "      <td>$340,000</td>\n",
       "      <td>NaN</td>\n",
       "      <td>NaN</td>\n",
       "    </tr>\n",
       "  </tbody>\n",
       "</table>\n",
       "</div>"
      ],
      "text/plain": [
       "  Company/Brand Founded HeadQuarter              Sector  \\\n",
       "0    Aqgromalin    2019     Chennai            AgriTech   \n",
       "1      Krayonnz    2019   Bangalore              EdTech   \n",
       "2  PadCare Labs    2018        Pune  Hygiene management   \n",
       "3         NCOME    2020   New Delhi              Escrow   \n",
       "4    Gramophone    2016      Indore            AgriTech   \n",
       "\n",
       "                                        What it does  \\\n",
       "0                       Cultivating Ideas for Profit   \n",
       "1  An academy-guardian-scholar centric ecosystem ...   \n",
       "2   Converting bio-hazardous waste to harmless waste   \n",
       "3                       Escrow-as-a-service platform   \n",
       "4  Gramophone is an AgTech platform enabling acce...   \n",
       "\n",
       "                                            Founders  \\\n",
       "0                    Prasanna Manogaran, Bharani C L   \n",
       "1                   Saurabh Dixit, Gurudutt Upadhyay   \n",
       "2                                    Ajinkya Dhariya   \n",
       "3                                      Ritesh Tiwari   \n",
       "4  Ashish Rajan Singh, Harshit Gupta, Nishant Mah...   \n",
       "\n",
       "                              Investor    Amount($)     Stage Column1  \n",
       "0                      Angel investors    $200,000        NaN     NaN  \n",
       "1                      GSF Accelerator    $100,000   Pre-seed     NaN  \n",
       "2                       Venture Center  Undisclosed  Pre-seed     NaN  \n",
       "3  Venture Catalysts, PointOne Capital    $400,000        NaN     NaN  \n",
       "4  Siana Capital Management, Info Edge    $340,000        NaN     NaN  "
      ]
     },
     "execution_count": 3,
     "metadata": {},
     "output_type": "execute_result"
    }
   ],
   "source": [
    "df.head()"
   ]
  },
  {
   "cell_type": "markdown",
   "id": "4839f5bd",
   "metadata": {},
   "source": [
    "# Handling column \"Founded\""
   ]
  },
  {
   "cell_type": "code",
   "execution_count": 4,
   "id": "30d14f00",
   "metadata": {},
   "outputs": [
    {
     "data": {
      "text/plain": [
       "212"
      ]
     },
     "execution_count": 4,
     "metadata": {},
     "output_type": "execute_result"
    }
   ],
   "source": [
    "df[\"Founded\"].isnull().sum()"
   ]
  },
  {
   "cell_type": "markdown",
   "id": "0fa7a1dc",
   "metadata": {},
   "source": [
    "We have found 212 empty values. we can replaced them by either by mode or mean of the column. our method is going to copy the column and work for calculatin mean and mode."
   ]
  },
  {
   "cell_type": "code",
   "execution_count": 5,
   "id": "a1047e1a",
   "metadata": {},
   "outputs": [],
   "source": [
    "my_record = df.Founded # copying the column"
   ]
  },
  {
   "cell_type": "code",
   "execution_count": 6,
   "id": "40ec2d68",
   "metadata": {},
   "outputs": [
    {
     "data": {
      "text/plain": [
       "'-'"
      ]
     },
     "execution_count": 6,
     "metadata": {},
     "output_type": "execute_result"
    }
   ],
   "source": [
    "my_record[482]"
   ]
  },
  {
   "cell_type": "markdown",
   "id": "1d5aae18",
   "metadata": {},
   "source": [
    "As shown in the above the recorder has \"-\" and \"nan\" values. They have to be dropped inorder to find mean and mode."
   ]
  },
  {
   "cell_type": "code",
   "execution_count": 7,
   "id": "5239dbd8",
   "metadata": {},
   "outputs": [
    {
     "name": "stdout",
     "output_type": "stream",
     "text": [
      "482\n"
     ]
    }
   ],
   "source": [
    "# searching for the index of the value \"-\" from the column\n",
    "for i in range(df.shape[0]):\n",
    "    if my_record[i] == \"-\":\n",
    "        print(i)"
   ]
  },
  {
   "cell_type": "code",
   "execution_count": 8,
   "id": "0c936a96",
   "metadata": {},
   "outputs": [],
   "source": [
    "my_record = my_record.drop(482)"
   ]
  },
  {
   "cell_type": "code",
   "execution_count": 1,
   "id": "932d0e63",
   "metadata": {},
   "outputs": [
    {
     "ename": "NameError",
     "evalue": "name 'my_record' is not defined",
     "output_type": "error",
     "traceback": [
      "\u001b[1;31m---------------------------------------------------------------------------\u001b[0m",
      "\u001b[1;31mNameError\u001b[0m                                 Traceback (most recent call last)",
      "\u001b[1;32m~\\AppData\\Local\\Temp\\ipykernel_4260\\2954413149.py\u001b[0m in \u001b[0;36m<module>\u001b[1;34m\u001b[0m\n\u001b[1;32m----> 1\u001b[1;33m \u001b[0mmy_record\u001b[0m \u001b[1;33m=\u001b[0m \u001b[0mmy_record\u001b[0m\u001b[1;33m.\u001b[0m\u001b[0mdropna\u001b[0m\u001b[1;33m(\u001b[0m\u001b[0minplace\u001b[0m\u001b[1;33m=\u001b[0m\u001b[1;32mTrue\u001b[0m\u001b[1;33m)\u001b[0m\u001b[1;33m\u001b[0m\u001b[1;33m\u001b[0m\u001b[0m\n\u001b[0m",
      "\u001b[1;31mNameError\u001b[0m: name 'my_record' is not defined"
     ]
    }
   ],
   "source": [
    "my_record = my_record.dropna()"
   ]
  },
  {
   "cell_type": "code",
   "execution_count": 10,
   "id": "fa4976c5",
   "metadata": {},
   "outputs": [
    {
     "data": {
      "text/plain": [
       "array(['2019', '2018', '2020', '2016', '2008', '2015', '2017', '2014',\n",
       "       '1998', '2007', '2011', '1982', '2013', '2009', '2012', '1995',\n",
       "       '2010', '2006', '1978', '1999', '1994', '2005', '1973', '2002',\n",
       "       '2004', '2001'], dtype=object)"
      ]
     },
     "execution_count": 10,
     "metadata": {},
     "output_type": "execute_result"
    }
   ],
   "source": [
    "my_record.unique()"
   ]
  },
  {
   "cell_type": "markdown",
   "id": "ff06a57a",
   "metadata": {},
   "source": [
    "Now our data is free from error for our calculation. It need only to convert it to integer"
   ]
  },
  {
   "cell_type": "code",
   "execution_count": 11,
   "id": "9746eabe",
   "metadata": {},
   "outputs": [],
   "source": [
    "my_record = my_record.astype(int) # converting to int data type"
   ]
  },
  {
   "cell_type": "code",
   "execution_count": 12,
   "id": "e15c279b",
   "metadata": {},
   "outputs": [
    {
     "name": "stdout",
     "output_type": "stream",
     "text": [
      "<class 'pandas.core.series.Series'>\n",
      "Int64Index: 842 entries, 0 to 1054\n",
      "Series name: Founded\n",
      "Non-Null Count  Dtype\n",
      "--------------  -----\n",
      "842 non-null    int32\n",
      "dtypes: int32(1)\n",
      "memory usage: 9.9 KB\n"
     ]
    }
   ],
   "source": [
    "my_record.info()"
   ]
  },
  {
   "cell_type": "code",
   "execution_count": 13,
   "id": "66a0c135",
   "metadata": {},
   "outputs": [
    {
     "data": {
      "text/plain": [
       "0    2015\n",
       "Name: Founded, dtype: int32"
      ]
     },
     "execution_count": 13,
     "metadata": {},
     "output_type": "execute_result"
    }
   ],
   "source": [
    "my_record.mode()"
   ]
  },
  {
   "cell_type": "markdown",
   "id": "86d8412b",
   "metadata": {},
   "source": [
    "The Mode is 2015"
   ]
  },
  {
   "cell_type": "code",
   "execution_count": 14,
   "id": "cee66e84",
   "metadata": {},
   "outputs": [
    {
     "data": {
      "text/plain": [
       "2015.3634204275534"
      ]
     },
     "execution_count": 14,
     "metadata": {},
     "output_type": "execute_result"
    }
   ],
   "source": [
    "my_record.mean()"
   ]
  },
  {
   "cell_type": "markdown",
   "id": "01b33b57",
   "metadata": {},
   "source": [
    "The average is 2015. So we can use 2015 as an imputer for missed value for column founded."
   ]
  },
  {
   "cell_type": "code",
   "execution_count": 15,
   "id": "f8a071e5",
   "metadata": {},
   "outputs": [
    {
     "data": {
      "text/plain": [
       "array(['2019', '2018', '2020', '2016', '2008', '2015', '2017', '2014',\n",
       "       '1998', '2007', '2011', '1982', '2013', '2009', '2012', '1995',\n",
       "       '2010', '2006', '1978', nan, '1999', '1994', '2005', '1973', '-',\n",
       "       '2002', '2004', '2001'], dtype=object)"
      ]
     },
     "execution_count": 15,
     "metadata": {},
     "output_type": "execute_result"
    }
   ],
   "source": [
    "df.Founded.unique()"
   ]
  },
  {
   "cell_type": "code",
   "execution_count": 16,
   "id": "2d26fc64",
   "metadata": {},
   "outputs": [],
   "source": [
    "df.Founded = df.Founded.replace(\"-\",2015) # repalcing \"-\" by 2015"
   ]
  },
  {
   "cell_type": "code",
   "execution_count": 17,
   "id": "a3a7d6b7",
   "metadata": {},
   "outputs": [
    {
     "data": {
      "text/plain": [
       "array(['2019', '2018', '2020', '2016', '2008', '2015', '2017', '2014',\n",
       "       '1998', '2007', '2011', '1982', '2013', '2009', '2012', '1995',\n",
       "       '2010', '2006', '1978', nan, '1999', '1994', '2005', '1973', 2015,\n",
       "       '2002', '2004', '2001'], dtype=object)"
      ]
     },
     "execution_count": 17,
     "metadata": {},
     "output_type": "execute_result"
    }
   ],
   "source": [
    "df.Founded.unique()"
   ]
  },
  {
   "cell_type": "code",
   "execution_count": 18,
   "id": "501c021b",
   "metadata": {},
   "outputs": [],
   "source": [
    "df.Founded = df.Founded.fillna(2015) # replacing NaN "
   ]
  },
  {
   "cell_type": "code",
   "execution_count": 19,
   "id": "b99b7ae2",
   "metadata": {},
   "outputs": [
    {
     "data": {
      "text/plain": [
       "array(['2019', '2018', '2020', '2016', '2008', '2015', '2017', '2014',\n",
       "       '1998', '2007', '2011', '1982', '2013', '2009', '2012', '1995',\n",
       "       '2010', '2006', '1978', 2015, '1999', '1994', '2005', '1973',\n",
       "       '2002', '2004', '2001'], dtype=object)"
      ]
     },
     "execution_count": 19,
     "metadata": {},
     "output_type": "execute_result"
    }
   ],
   "source": [
    "df.Founded.unique()"
   ]
  },
  {
   "cell_type": "code",
   "execution_count": 20,
   "id": "487989c4",
   "metadata": {},
   "outputs": [
    {
     "data": {
      "text/plain": [
       "False"
      ]
     },
     "execution_count": 20,
     "metadata": {},
     "output_type": "execute_result"
    }
   ],
   "source": [
    "df.Founded.isnull().any()"
   ]
  },
  {
   "cell_type": "markdown",
   "id": "387c7b40",
   "metadata": {},
   "source": [
    "# Handling column \"Company/Brand\""
   ]
  },
  {
   "cell_type": "code",
   "execution_count": 21,
   "id": "ef3fecb0",
   "metadata": {},
   "outputs": [],
   "source": [
    "df.rename(columns = { \"Company/Brand\" : \"Company Name\"}, inplace=True) # rename the column"
   ]
  },
  {
   "cell_type": "code",
   "execution_count": 22,
   "id": "32609464",
   "metadata": {},
   "outputs": [
    {
     "data": {
      "text/plain": [
       "Index(['Company Name', 'Founded', 'HeadQuarter', 'Sector', 'What it does',\n",
       "       'Founders', 'Investor', 'Amount($)', 'Stage', 'Column1'],\n",
       "      dtype='object')"
      ]
     },
     "execution_count": 22,
     "metadata": {},
     "output_type": "execute_result"
    }
   ],
   "source": [
    "df.columns"
   ]
  },
  {
   "cell_type": "markdown",
   "id": "9a31705e",
   "metadata": {},
   "source": [
    "# Handling column \"Head Quarter\""
   ]
  },
  {
   "cell_type": "markdown",
   "id": "622a0c08",
   "metadata": {},
   "source": [
    "In order to make columns be same with startup_funding2018. The name of countries should be renamed as \"City\""
   ]
  },
  {
   "cell_type": "code",
   "execution_count": 23,
   "id": "c6155fbc",
   "metadata": {},
   "outputs": [],
   "source": [
    "df.rename(columns = { \"HeadQuarter\" : \"City\"}, inplace=True) # rename the column"
   ]
  },
  {
   "cell_type": "code",
   "execution_count": 24,
   "id": "2b4e7cb9",
   "metadata": {},
   "outputs": [
    {
     "data": {
      "text/plain": [
       "Index(['Company Name', 'Founded', 'City', 'Sector', 'What it does', 'Founders',\n",
       "       'Investor', 'Amount($)', 'Stage', 'Column1'],\n",
       "      dtype='object')"
      ]
     },
     "execution_count": 24,
     "metadata": {},
     "output_type": "execute_result"
    }
   ],
   "source": [
    "df.columns"
   ]
  },
  {
   "cell_type": "code",
   "execution_count": 25,
   "id": "9bc24311",
   "metadata": {},
   "outputs": [
    {
     "data": {
      "text/plain": [
       "13"
      ]
     },
     "execution_count": 25,
     "metadata": {},
     "output_type": "execute_result"
    }
   ],
   "source": [
    "df.Sector.isnull().sum() # checking if there is null value"
   ]
  },
  {
   "cell_type": "markdown",
   "id": "aae5475d",
   "metadata": {},
   "source": [
    "The column has 13 empty values. we are going to substitute them with the most frequent value. Before that the indeex of empty value have to be determined."
   ]
  },
  {
   "cell_type": "code",
   "execution_count": 26,
   "id": "1527e8cc",
   "metadata": {},
   "outputs": [],
   "source": [
    "my_record2 = df.Sector.isnull() # copying the column"
   ]
  },
  {
   "cell_type": "code",
   "execution_count": 27,
   "id": "b2724676",
   "metadata": {},
   "outputs": [],
   "source": [
    "mode_val = df.Sector.mode() # finding frequented value"
   ]
  },
  {
   "cell_type": "code",
   "execution_count": 28,
   "id": "8ef5a9fa",
   "metadata": {},
   "outputs": [],
   "source": [
    "for i in range(len(my_record2)):\n",
    "    if my_record2[i] == True: # searching for empty/nan value\n",
    "        df.Sector[i] = mode_val"
   ]
  },
  {
   "cell_type": "code",
   "execution_count": 29,
   "id": "1b182929",
   "metadata": {},
   "outputs": [
    {
     "data": {
      "text/plain": [
       "False"
      ]
     },
     "execution_count": 29,
     "metadata": {},
     "output_type": "execute_result"
    }
   ],
   "source": [
    "df.Sector.isnull().any()"
   ]
  },
  {
   "cell_type": "code",
   "execution_count": 30,
   "id": "afbecac2",
   "metadata": {},
   "outputs": [
    {
     "data": {
      "text/plain": [
       "Index(['Company Name', 'Founded', 'City', 'Sector', 'What it does', 'Founders',\n",
       "       'Investor', 'Amount($)', 'Stage', 'Column1'],\n",
       "      dtype='object')"
      ]
     },
     "execution_count": 30,
     "metadata": {},
     "output_type": "execute_result"
    }
   ],
   "source": [
    "df.columns"
   ]
  },
  {
   "cell_type": "markdown",
   "id": "23ef3069",
   "metadata": {},
   "source": [
    "# Handling column \"What it does\""
   ]
  },
  {
   "cell_type": "code",
   "execution_count": 31,
   "id": "f5598d35",
   "metadata": {},
   "outputs": [
    {
     "data": {
      "text/plain": [
       "0       False\n",
       "1       False\n",
       "2       False\n",
       "3       False\n",
       "4       False\n",
       "        ...  \n",
       "1050    False\n",
       "1051    False\n",
       "1052    False\n",
       "1053    False\n",
       "1054    False\n",
       "Name: What it does, Length: 1055, dtype: bool"
      ]
     },
     "execution_count": 31,
     "metadata": {},
     "output_type": "execute_result"
    }
   ],
   "source": [
    "df[\"What it does\"].isnull()"
   ]
  },
  {
   "cell_type": "markdown",
   "id": "33cf199a",
   "metadata": {},
   "source": [
    "For the sake matching columns be same as in other excels. we give similar column name for company detail"
   ]
  },
  {
   "cell_type": "code",
   "execution_count": 32,
   "id": "c2f083de",
   "metadata": {},
   "outputs": [],
   "source": [
    "df.rename(columns = { \"What it does\" : \"About Company\"}, inplace=True) # rename the column"
   ]
  },
  {
   "cell_type": "code",
   "execution_count": 33,
   "id": "e48bb7a2",
   "metadata": {},
   "outputs": [
    {
     "data": {
      "text/plain": [
       "Index(['Company Name', 'Founded', 'City', 'Sector', 'About Company',\n",
       "       'Founders', 'Investor', 'Amount($)', 'Stage', 'Column1'],\n",
       "      dtype='object')"
      ]
     },
     "execution_count": 33,
     "metadata": {},
     "output_type": "execute_result"
    }
   ],
   "source": [
    "df.columns"
   ]
  },
  {
   "cell_type": "markdown",
   "id": "4b2f0419",
   "metadata": {},
   "source": [
    "# Handling column \"Founders\""
   ]
  },
  {
   "cell_type": "code",
   "execution_count": 34,
   "id": "d7bbffd1",
   "metadata": {},
   "outputs": [
    {
     "data": {
      "text/plain": [
       "12"
      ]
     },
     "execution_count": 34,
     "metadata": {},
     "output_type": "execute_result"
    }
   ],
   "source": [
    "df.Founders.isnull().sum()"
   ]
  },
  {
   "cell_type": "markdown",
   "id": "283492c8",
   "metadata": {},
   "source": [
    "The column has 12 null values, first we count them and replace with a flag called \"unknown\""
   ]
  },
  {
   "cell_type": "code",
   "execution_count": 35,
   "id": "a2492ad3",
   "metadata": {},
   "outputs": [],
   "source": [
    "my_record3 = df.Founders.isnull()"
   ]
  },
  {
   "cell_type": "code",
   "execution_count": 36,
   "id": "00fbe10e",
   "metadata": {},
   "outputs": [],
   "source": [
    "for i in range(len(my_record3)):\n",
    "    if my_record3[i] == True:\n",
    "        df.Founders[i] = \"unkown\""
   ]
  },
  {
   "cell_type": "code",
   "execution_count": 37,
   "id": "e652f61c",
   "metadata": {},
   "outputs": [
    {
     "data": {
      "text/plain": [
       "0"
      ]
     },
     "execution_count": 37,
     "metadata": {},
     "output_type": "execute_result"
    }
   ],
   "source": [
    "df.Founders.isnull().sum()"
   ]
  },
  {
   "cell_type": "code",
   "execution_count": 38,
   "id": "eb745767",
   "metadata": {},
   "outputs": [
    {
     "data": {
      "text/plain": [
       "Index(['Company Name', 'Founded', 'City', 'Sector', 'About Company',\n",
       "       'Founders', 'Investor', 'Amount($)', 'Stage', 'Column1'],\n",
       "      dtype='object')"
      ]
     },
     "execution_count": 38,
     "metadata": {},
     "output_type": "execute_result"
    }
   ],
   "source": [
    "df.columns"
   ]
  },
  {
   "cell_type": "markdown",
   "id": "17725bd0",
   "metadata": {},
   "source": [
    "# Handling column \"Investor\""
   ]
  },
  {
   "cell_type": "code",
   "execution_count": 39,
   "id": "117f3910",
   "metadata": {},
   "outputs": [
    {
     "data": {
      "text/plain": [
       "38"
      ]
     },
     "execution_count": 39,
     "metadata": {},
     "output_type": "execute_result"
    }
   ],
   "source": [
    "df.Investor.isnull().sum()"
   ]
  },
  {
   "cell_type": "markdown",
   "id": "c93b51fe",
   "metadata": {},
   "source": [
    "The column has 32 null values, first we count them and replace with a flag called \"unknown\""
   ]
  },
  {
   "cell_type": "code",
   "execution_count": 40,
   "id": "f743ba8e",
   "metadata": {},
   "outputs": [],
   "source": [
    "my_record4 = df.Investor.isnull()"
   ]
  },
  {
   "cell_type": "code",
   "execution_count": 41,
   "id": "8c95ef3e",
   "metadata": {},
   "outputs": [],
   "source": [
    "for i in range(len(my_record4)):\n",
    "    if my_record4[i] == True:\n",
    "        df.Investor[i] = \"unknown\""
   ]
  },
  {
   "cell_type": "code",
   "execution_count": 42,
   "id": "d7bf95a3",
   "metadata": {},
   "outputs": [
    {
     "data": {
      "text/plain": [
       "0"
      ]
     },
     "execution_count": 42,
     "metadata": {},
     "output_type": "execute_result"
    }
   ],
   "source": [
    "df.Investor.isnull().sum()"
   ]
  },
  {
   "cell_type": "code",
   "execution_count": 43,
   "id": "755b388e",
   "metadata": {},
   "outputs": [
    {
     "data": {
      "text/plain": [
       "Index(['Company Name', 'Founded', 'City', 'Sector', 'About Company',\n",
       "       'Founders', 'Investor', 'Amount($)', 'Stage', 'Column1'],\n",
       "      dtype='object')"
      ]
     },
     "execution_count": 43,
     "metadata": {},
     "output_type": "execute_result"
    }
   ],
   "source": [
    "df.columns"
   ]
  },
  {
   "cell_type": "markdown",
   "id": "f0d2e737",
   "metadata": {},
   "source": [
    "# Handling column \"Amount\""
   ]
  },
  {
   "cell_type": "code",
   "execution_count": 44,
   "id": "b5d98f93",
   "metadata": {},
   "outputs": [
    {
     "data": {
      "text/plain": [
       "array(['$200,000 ', '$100,000 ', 'Undisclosed', '$400,000 ', '$340,000 ',\n",
       "       '$600,000 ', '$45,000,000 ', '$1,000,000 ', '$2,000,000 ',\n",
       "       '$1,200,000 ', '$660,000,000 ', '$120,000 ', '$7,500,000 ',\n",
       "       '$5,000,000 ', '$500,000 ', '$3,000,000 ', '$10,000,000 ',\n",
       "       '$145,000,000 ', '$100,000,000 ', nan, '$21,000,000 ',\n",
       "       '$4,000,000 ', '$20,000,000 ', '$560,000 ', '$275,000 ',\n",
       "       '$4,500,000 ', '$15,000,000 ', '$390,000,000 ', '$7,000,000 ',\n",
       "       '$5,100,000 ', '$700,000,000 ', '$2,300,000 ', '$700,000 ',\n",
       "       '$19,000,000 ', '$9,000,000 ', '$40,000,000 ', '$750,000 ',\n",
       "       '$1,500,000 ', '$7,800,000 ', '$50,000,000 ', '$80,000,000 ',\n",
       "       '$30,000,000 ', '$1,700,000 ', '$2,500,000 ', '$40,000 ',\n",
       "       '$33,000,000 ', '$35,000,000 ', '$300,000 ', '$25,000,000 ',\n",
       "       '$3,500,000 ', '$200,000,000 ', '$6,000,000 ', '$1,300,000 ',\n",
       "       '$4,100,000 ', '$575,000 ', '$800,000 ', '$28,000,000 ',\n",
       "       '$18,000,000 ', '$3,200,000 ', '$900,000 ', '$250,000 ',\n",
       "       '$4,700,000 ', '$75,000,000 ', '$8,000,000 ', '$121,000,000 ',\n",
       "       '$55,000,000 ', '$3,300,000 ', '$11,000,000 ', '$16,000,000 ',\n",
       "       '$5,400,000 ', '$150,000,000 ', '$4,200,000 ', '$22,000,000 ',\n",
       "       '$52,000,000 ', '$1,100,000 ', '$118,000,000 ', '$1,600,000 ',\n",
       "       '$18,500,000 ', '$70,000,000,000 ', '$800,000,000 ',\n",
       "       '$400,000,000 ', '$150,000 ', '$176,000,000 ', '$60,000,000 ',\n",
       "       '$470,000 ', '$240,000 ', '$3,000,000,000 ', '$74,000,000 ',\n",
       "       '$62,000,000 ', '$2,100,000 ', '$500,000,000 ', '$12,500,000 ',\n",
       "       '$2,200,000,000 ', '$5,060,000 ', '$225,000,000 ', '$24,700,000 ',\n",
       "       '$7,700,000 ', '$1,90,67,328', '$51,000,000 ', '$115,000 ',\n",
       "       '$54,000 ', '$20,000 ', '$803,146 ', '$238,000 ', '$10,220,000 ',\n",
       "       '$1,020,000 ', '$12,000,000 ', '$13,400,000 ', '$170,000,000 ',\n",
       "       '$2,900,000 ', '$543,000 ', '$90,000,000 ', '$3,400,000 ',\n",
       "       '$23,000,000 ', '$8,090,000 ', '$1,030,000 ', '$5,040,000 ',\n",
       "       '$360,000 ', '$1,400,000 ', '$650,000 ', '$54,000,000 ',\n",
       "       '$42,500,000 ', '$11,370,000 ', '$325,000 ', '$410,000 ',\n",
       "       '$450,000 ', '$682,000 ', '$4,050,000 ', '$1,050,000 ',\n",
       "       '$1,080,000 ', '$4,300,000 ', '$6,800,000 ', '$2,110,000 ',\n",
       "       '$887,000, $23,000,000', '$764,000 ', '$603,000 ', '$409,000 ',\n",
       "       '$292,000 ', '$286,000 ', '$136,000 ',\n",
       "       '$800,000,000 to $850,000,000', '$546,000 ', '$887,000 ',\n",
       "       '$43,000 ', '$40,900 ', '$2,200,000 ', '$5,660,000 ', '$350,000 ',\n",
       "       '$110,000 ', '$122,000,000 ', '$11,635,000 ', '$2,800,000 ',\n",
       "       '$1,065,000 ', '$669,000 ', '$16,076,000 ', '$649,600 ',\n",
       "       '$6,700,000 ', '$220,000 ', '$266,500 ', '$2,879,000 ',\n",
       "       '$26,500,000 ', '$351,000 ', '$8,700,000 ', '$46,761,000 ',\n",
       "       '$175,000 ', '9.600,000', '$11,241,000 ', '$804,000 ',\n",
       "       '$1,340,000 ', '$467,000 ', '$133,000 ', '$3,823,000 ',\n",
       "       '$934,000 ', '$293,000 ', '$198,000 ', '$927,000 ', '$971,000 ',\n",
       "       '$3,060,000 ', '$1,862,000 ', '$232,000 ', '$2,888,000 ',\n",
       "       '$1,328,000 ', '$15,500,000 ', '$56,000,000 ', '$2,250,000 ',\n",
       "       '$16,753,000 ', '$3,700,000 ', '$1,470,000 ', '$530,000 ',\n",
       "       '$267,000 ', '$3,344,000 ', '$7,200,000 ', '$2,743,000 ',\n",
       "       '$6,082,000 ', '$6,609,000 ', '$27,700,000 ', '$5,940,000 ',\n",
       "       '$3,964,000 ', '$5,500,000 ', '$197,000 ', '$4,327,000 ',\n",
       "       '$459,000 ', '$3,937,000 ', '$1,313,500 ', '$229,800 ',\n",
       "       '$5,305,000 ', '$264,000 ', '$1,750,000 ', '$5,967,000 ',\n",
       "       '$2,980,000 ', 'Undiclsosed', '$323,000 ', '$1,326,000 ',\n",
       "       '$27,000,000 ', '$5,200,000 ', '$2,530,000 ', '$792,000 ',\n",
       "       '$11,363,000 ', '$1,715,000 ', '$329,000 ', '$5,271,000 ',\n",
       "       '$3,226,000 ', '$5,900,000 ', '$44,000,000 ', '$3,879,000 ',\n",
       "       '$13,000,000 ', '$8,800,000 ', '$9,500,000 ', '$920,000 ',\n",
       "       '$35,600,000 ', '$9,400,000 ', '$790,000 ', '$480,000 ',\n",
       "       '$160,000 ', '$8,200,000 ', '$4,257,000 ', '$1,410,000 ',\n",
       "       '$349,800 ', '$786,000 ', '$2,004,000 ', '$123,000,000 ',\n",
       "       '$248,000 ', '$24,000,000 ', '$14,259,000 ', '$24,500,000 ',\n",
       "       '$3,800,000 ', '$18,370,000 ', '$68,525,000 ', '$4,800,000 ',\n",
       "       '$1,834,000 ', '$23,850,000 ', '$43,000,000 ', '$21,600,000 ',\n",
       "       '$4,598,000 ', '$13,137,000 ', '$115,000,000 ', '$3,900,000 ',\n",
       "       '$670,000 ', '42.23,000', '$8,500,000 ', '$3,148,000 ',\n",
       "       '$2,600,000 ', '25,58,000', '$4,049,500 ', '$10,500,000 ',\n",
       "       '$6,500,000 ', '$43,700,000 ', '$13,800,000 ', '$306,900 ',\n",
       "       '$420,000 ', '$627,300 ', '$113,000,000 ', '$32,000,000 ',\n",
       "       '$110,000,000 ', '$1,397,000 ', '$448,500 ', '$7,975,700 ',\n",
       "       '$330,000 ', '$5,600,000 ', '$1,402,000 ', '$21,500,000 ',\n",
       "       '$296,000,000 ', '$4,900,000 ', '$1,402,400 ', '$12,618,300 ',\n",
       "       '$9,900,000 ', '$982,530 ', '$70,185,200 ', '$210,000,000 ',\n",
       "       '$84,000,000 ', '$39,000,000 ', '$2,700,000 ', '$1,403,400 ',\n",
       "       '$105,000,000 ', '$103,000,000 ', '$281,300 ', '$12,700 ',\n",
       "       '$25,000 ', '$97,500,000 ', '$507,000 ', 'Undislosed',\n",
       "       '$8,400,000 ', '$18,300,000 ', '$125,000,000 ', '$181,000 ',\n",
       "       '$280,000 ', '$14,700,000 ', '$13,200,000 ', '$8,043,000 '],\n",
       "      dtype=object)"
      ]
     },
     "execution_count": 44,
     "metadata": {},
     "output_type": "execute_result"
    }
   ],
   "source": [
    "df[\"Amount($)\"].unique()"
   ]
  },
  {
   "cell_type": "markdown",
   "id": "15f4586d",
   "metadata": {},
   "source": [
    "\n",
    "This column has nan and undisclosed values. We are going to substitue them by mean amount.\n"
   ]
  },
  {
   "cell_type": "code",
   "execution_count": 45,
   "id": "65237390",
   "metadata": {},
   "outputs": [],
   "source": [
    "my_record5 = df[\"Amount($)\"] # copying the column"
   ]
  },
  {
   "cell_type": "code",
   "execution_count": 46,
   "id": "4573df2b",
   "metadata": {},
   "outputs": [],
   "source": [
    "# replacing values\n",
    "\n",
    "my_record5 = my_record5.apply(lambda x: str(x).replace(\",\",\"\"))\n",
    "my_record5 = my_record5.apply(lambda x: str(x).replace(\"Undisclosed\",\"0\"))\n",
    "my_record5 = my_record5.apply(lambda x: str(x).replace(\"$\",\"\"))\n",
    "my_record5 = my_record5.apply(lambda x: str(x).replace(\"Undislosed\",\"0\"))\n",
    "my_record5 = my_record5.apply(lambda x: str(x).replace(\"Undiclsosed\",\"0\"))\n",
    "my_record5 = my_record5.apply(lambda x: str(x).replace(\"nan\",\"0\"))\n"
   ]
  },
  {
   "cell_type": "code",
   "execution_count": 47,
   "id": "36e9eada",
   "metadata": {},
   "outputs": [],
   "source": [
    "# eliminating space\n",
    "\n",
    "state = my_record5.str.endswith(\" \")\n",
    "\n",
    "for i in range(len(my_record5)):\n",
    "    if state[i]:\n",
    "        my_record5[i] = my_record5[i][:-1]"
   ]
  },
  {
   "cell_type": "code",
   "execution_count": 48,
   "id": "bed5bd8e",
   "metadata": {},
   "outputs": [
    {
     "data": {
      "text/plain": [
       "{465: '887000 23000000', 472: '800000000 to 850000000'}"
      ]
     },
     "execution_count": 48,
     "metadata": {},
     "output_type": "execute_result"
    }
   ],
   "source": [
    "# there are two columns having two values\n",
    "\n",
    "val = {}\n",
    "for i in range(len(my_record5)):\n",
    "    if \" \" in my_record5[i]:\n",
    "        val[i] = my_record5[i]\n",
    "val"
   ]
  },
  {
   "cell_type": "code",
   "execution_count": 49,
   "id": "d3348544",
   "metadata": {},
   "outputs": [],
   "source": [
    "# a. replacing values with their mean\n",
    "\n",
    "val2 = val[465].split(\" \")\n",
    "val2\n",
    "\n",
    "a = float(val2[0])\n",
    "b = float(val2[1])\n",
    "\n",
    "mean = (a + b) / 2\n",
    "my_record5[465] = mean\n",
    "\n",
    "mean = (a + b) / 2\n",
    "my_record5[465] = mean"
   ]
  },
  {
   "cell_type": "code",
   "execution_count": 50,
   "id": "5d6f3ac1",
   "metadata": {},
   "outputs": [],
   "source": [
    "# b. replacing values with their mean\n",
    "\n",
    "val3 = val[472].split(\" to \")\n",
    "val3\n",
    "\n",
    "c = float(val2[0])\n",
    "d = float(val2[1])\n",
    "\n",
    "mean2 = (c + d) / 2\n",
    "my_record5[472] = mean2"
   ]
  },
  {
   "cell_type": "code",
   "execution_count": 51,
   "id": "5901195f",
   "metadata": {},
   "outputs": [],
   "source": [
    "my_record5 = my_record5.astype(float) # converting to float"
   ]
  },
  {
   "cell_type": "code",
   "execution_count": 52,
   "id": "abf3a02c",
   "metadata": {},
   "outputs": [],
   "source": [
    "my_record5 = my_record5.replace(0.0 ,mean2) # replacing by mean"
   ]
  },
  {
   "cell_type": "code",
   "execution_count": 53,
   "id": "f511213d",
   "metadata": {},
   "outputs": [],
   "source": [
    "df[\"Amount($)\"] = my_record5 # substituting the columns"
   ]
  },
  {
   "cell_type": "code",
   "execution_count": 54,
   "id": "c2c160bc",
   "metadata": {},
   "outputs": [
    {
     "data": {
      "text/plain": [
       "0         200000.0\n",
       "1         100000.0\n",
       "2       11943500.0\n",
       "3         400000.0\n",
       "4         340000.0\n",
       "           ...    \n",
       "1050     1500000.0\n",
       "1051    13200000.0\n",
       "1052     8000000.0\n",
       "1053     8043000.0\n",
       "1054     9000000.0\n",
       "Name: Amount($), Length: 1055, dtype: float64"
      ]
     },
     "execution_count": 54,
     "metadata": {},
     "output_type": "execute_result"
    }
   ],
   "source": [
    "df[\"Amount($)\"]"
   ]
  },
  {
   "cell_type": "code",
   "execution_count": 55,
   "id": "913b4212",
   "metadata": {},
   "outputs": [],
   "source": [
    "df = df.rename(columns={\"Amount($)\": \"Amount\"})"
   ]
  },
  {
   "cell_type": "markdown",
   "id": "7e0ea4e6",
   "metadata": {},
   "source": [
    "# Handling column \"Stage\""
   ]
  },
  {
   "cell_type": "code",
   "execution_count": 56,
   "id": "1bd7e97d",
   "metadata": {},
   "outputs": [
    {
     "data": {
      "text/plain": [
       "Index(['Company Name', 'Founded', 'City', 'Sector', 'About Company',\n",
       "       'Founders', 'Investor', 'Amount', 'Stage', 'Column1'],\n",
       "      dtype='object')"
      ]
     },
     "execution_count": 56,
     "metadata": {},
     "output_type": "execute_result"
    }
   ],
   "source": [
    "df.columns"
   ]
  },
  {
   "cell_type": "code",
   "execution_count": 57,
   "id": "a9518755",
   "metadata": {},
   "outputs": [
    {
     "data": {
      "text/plain": [
       "array([nan, 'Pre-seed', 'Seed', 'Pre-series A', 'Pre-series', 'Series C',\n",
       "       'Series A', 'Series B', 'Debt', 'Pre-series C', 'Pre-series B',\n",
       "       'Series E', 'Bridge', 'Series D', 'Series B2', 'Series F',\n",
       "       'Pre- series A', 'Edge', 'Series H', 'Pre-Series B', 'Seed A',\n",
       "       'Series A-1', 'Seed Funding', 'Pre-Seed', 'Seed round',\n",
       "       'Pre-seed Round', 'Seed Round & Series A', 'Pre Series A',\n",
       "       'Pre seed Round', 'Angel Round', 'Pre series A1', 'Series E2',\n",
       "       'Pre series A', 'Seed Round', 'Bridge Round', 'Pre seed round',\n",
       "       'Pre series B', 'Pre series C', 'Seed Investment', 'Series D1',\n",
       "       'Mid series', 'Series C, D', 'Seed funding'], dtype=object)"
      ]
     },
     "execution_count": 57,
     "metadata": {},
     "output_type": "execute_result"
    }
   ],
   "source": [
    "df.Stage.unique()"
   ]
  },
  {
   "cell_type": "code",
   "execution_count": 58,
   "id": "77657abf",
   "metadata": {},
   "outputs": [],
   "source": [
    "df.Stage = df.Stage.fillna(df.Stage.mode()[0])"
   ]
  },
  {
   "cell_type": "code",
   "execution_count": 59,
   "id": "b0b951e0",
   "metadata": {},
   "outputs": [
    {
     "data": {
      "text/plain": [
       "array(['Series A', 'Pre-seed', 'Seed', 'Pre-series A', 'Pre-series',\n",
       "       'Series C', 'Series B', 'Debt', 'Pre-series C', 'Pre-series B',\n",
       "       'Series E', 'Bridge', 'Series D', 'Series B2', 'Series F',\n",
       "       'Pre- series A', 'Edge', 'Series H', 'Pre-Series B', 'Seed A',\n",
       "       'Series A-1', 'Seed Funding', 'Pre-Seed', 'Seed round',\n",
       "       'Pre-seed Round', 'Seed Round & Series A', 'Pre Series A',\n",
       "       'Pre seed Round', 'Angel Round', 'Pre series A1', 'Series E2',\n",
       "       'Pre series A', 'Seed Round', 'Bridge Round', 'Pre seed round',\n",
       "       'Pre series B', 'Pre series C', 'Seed Investment', 'Series D1',\n",
       "       'Mid series', 'Series C, D', 'Seed funding'], dtype=object)"
      ]
     },
     "execution_count": 59,
     "metadata": {},
     "output_type": "execute_result"
    }
   ],
   "source": [
    "df.Stage.unique()"
   ]
  },
  {
   "cell_type": "markdown",
   "id": "b7bb0870",
   "metadata": {},
   "source": [
    "# Handling column \"Column1\""
   ]
  },
  {
   "cell_type": "code",
   "execution_count": 60,
   "id": "f891f938",
   "metadata": {},
   "outputs": [
    {
     "data": {
      "text/plain": [
       "Index(['Company Name', 'Founded', 'City', 'Sector', 'About Company',\n",
       "       'Founders', 'Investor', 'Amount', 'Stage', 'Column1'],\n",
       "      dtype='object')"
      ]
     },
     "execution_count": 60,
     "metadata": {},
     "output_type": "execute_result"
    }
   ],
   "source": [
    "df.columns"
   ]
  },
  {
   "cell_type": "code",
   "execution_count": 61,
   "id": "354d4265",
   "metadata": {},
   "outputs": [],
   "source": [
    "df = df.drop(columns = \"Column1\")"
   ]
  },
  {
   "cell_type": "code",
   "execution_count": 62,
   "id": "6eb19ebb",
   "metadata": {},
   "outputs": [
    {
     "data": {
      "text/plain": [
       "Index(['Company Name', 'Founded', 'City', 'Sector', 'About Company',\n",
       "       'Founders', 'Investor', 'Amount', 'Stage'],\n",
       "      dtype='object')"
      ]
     },
     "execution_count": 62,
     "metadata": {},
     "output_type": "execute_result"
    }
   ],
   "source": [
    "df.columns"
   ]
  },
  {
   "cell_type": "markdown",
   "id": "e78cfa53",
   "metadata": {},
   "source": [
    "# removing duplicate values"
   ]
  },
  {
   "cell_type": "code",
   "execution_count": 63,
   "id": "5272f8e8",
   "metadata": {},
   "outputs": [],
   "source": [
    "df = df.loc[df.astype(str).drop_duplicates().index]"
   ]
  },
  {
   "cell_type": "code",
   "execution_count": 64,
   "id": "3d0d98a5",
   "metadata": {},
   "outputs": [
    {
     "data": {
      "text/html": [
       "<div>\n",
       "<style scoped>\n",
       "    .dataframe tbody tr th:only-of-type {\n",
       "        vertical-align: middle;\n",
       "    }\n",
       "\n",
       "    .dataframe tbody tr th {\n",
       "        vertical-align: top;\n",
       "    }\n",
       "\n",
       "    .dataframe thead th {\n",
       "        text-align: right;\n",
       "    }\n",
       "</style>\n",
       "<table border=\"1\" class=\"dataframe\">\n",
       "  <thead>\n",
       "    <tr style=\"text-align: right;\">\n",
       "      <th></th>\n",
       "      <th>Company Name</th>\n",
       "      <th>Founded</th>\n",
       "      <th>City</th>\n",
       "      <th>Sector</th>\n",
       "      <th>About Company</th>\n",
       "      <th>Founders</th>\n",
       "      <th>Investor</th>\n",
       "      <th>Amount</th>\n",
       "      <th>Stage</th>\n",
       "    </tr>\n",
       "  </thead>\n",
       "  <tbody>\n",
       "    <tr>\n",
       "      <th>0</th>\n",
       "      <td>Aqgromalin</td>\n",
       "      <td>2019</td>\n",
       "      <td>Chennai</td>\n",
       "      <td>AgriTech</td>\n",
       "      <td>Cultivating Ideas for Profit</td>\n",
       "      <td>Prasanna Manogaran, Bharani C L</td>\n",
       "      <td>Angel investors</td>\n",
       "      <td>200000.0</td>\n",
       "      <td>Series A</td>\n",
       "    </tr>\n",
       "    <tr>\n",
       "      <th>1</th>\n",
       "      <td>Krayonnz</td>\n",
       "      <td>2019</td>\n",
       "      <td>Bangalore</td>\n",
       "      <td>EdTech</td>\n",
       "      <td>An academy-guardian-scholar centric ecosystem ...</td>\n",
       "      <td>Saurabh Dixit, Gurudutt Upadhyay</td>\n",
       "      <td>GSF Accelerator</td>\n",
       "      <td>100000.0</td>\n",
       "      <td>Pre-seed</td>\n",
       "    </tr>\n",
       "    <tr>\n",
       "      <th>2</th>\n",
       "      <td>PadCare Labs</td>\n",
       "      <td>2018</td>\n",
       "      <td>Pune</td>\n",
       "      <td>Hygiene management</td>\n",
       "      <td>Converting bio-hazardous waste to harmless waste</td>\n",
       "      <td>Ajinkya Dhariya</td>\n",
       "      <td>Venture Center</td>\n",
       "      <td>11943500.0</td>\n",
       "      <td>Pre-seed</td>\n",
       "    </tr>\n",
       "    <tr>\n",
       "      <th>3</th>\n",
       "      <td>NCOME</td>\n",
       "      <td>2020</td>\n",
       "      <td>New Delhi</td>\n",
       "      <td>Escrow</td>\n",
       "      <td>Escrow-as-a-service platform</td>\n",
       "      <td>Ritesh Tiwari</td>\n",
       "      <td>Venture Catalysts, PointOne Capital</td>\n",
       "      <td>400000.0</td>\n",
       "      <td>Series A</td>\n",
       "    </tr>\n",
       "    <tr>\n",
       "      <th>4</th>\n",
       "      <td>Gramophone</td>\n",
       "      <td>2016</td>\n",
       "      <td>Indore</td>\n",
       "      <td>AgriTech</td>\n",
       "      <td>Gramophone is an AgTech platform enabling acce...</td>\n",
       "      <td>Ashish Rajan Singh, Harshit Gupta, Nishant Mah...</td>\n",
       "      <td>Siana Capital Management, Info Edge</td>\n",
       "      <td>340000.0</td>\n",
       "      <td>Series A</td>\n",
       "    </tr>\n",
       "    <tr>\n",
       "      <th>...</th>\n",
       "      <td>...</td>\n",
       "      <td>...</td>\n",
       "      <td>...</td>\n",
       "      <td>...</td>\n",
       "      <td>...</td>\n",
       "      <td>...</td>\n",
       "      <td>...</td>\n",
       "      <td>...</td>\n",
       "      <td>...</td>\n",
       "    </tr>\n",
       "    <tr>\n",
       "      <th>1050</th>\n",
       "      <td>Leverage Edu</td>\n",
       "      <td>2015</td>\n",
       "      <td>Delhi</td>\n",
       "      <td>Edtech</td>\n",
       "      <td>AI enabled marketplace that provides career gu...</td>\n",
       "      <td>Akshay Chaturvedi</td>\n",
       "      <td>DSG Consumer Partners, Blume Ventures</td>\n",
       "      <td>1500000.0</td>\n",
       "      <td>Series A</td>\n",
       "    </tr>\n",
       "    <tr>\n",
       "      <th>1051</th>\n",
       "      <td>EpiFi</td>\n",
       "      <td>2015</td>\n",
       "      <td>NaN</td>\n",
       "      <td>Fintech</td>\n",
       "      <td>It offers customers with a single interface fo...</td>\n",
       "      <td>Sujith Narayanan, Sumit Gwalani</td>\n",
       "      <td>Sequoia India, Ribbit Capital</td>\n",
       "      <td>13200000.0</td>\n",
       "      <td>Seed Round</td>\n",
       "    </tr>\n",
       "    <tr>\n",
       "      <th>1052</th>\n",
       "      <td>Purplle</td>\n",
       "      <td>2012</td>\n",
       "      <td>Mumbai</td>\n",
       "      <td>Cosmetics</td>\n",
       "      <td>Online makeup and beauty products retailer</td>\n",
       "      <td>Manish Taneja, Rahul Dash</td>\n",
       "      <td>Verlinvest</td>\n",
       "      <td>8000000.0</td>\n",
       "      <td>Series A</td>\n",
       "    </tr>\n",
       "    <tr>\n",
       "      <th>1053</th>\n",
       "      <td>Shuttl</td>\n",
       "      <td>2015</td>\n",
       "      <td>Delhi</td>\n",
       "      <td>Transport</td>\n",
       "      <td>App based bus aggregator serice</td>\n",
       "      <td>Amit Singh, Deepanshu Malviya</td>\n",
       "      <td>SIG Global India Fund LLP.</td>\n",
       "      <td>8043000.0</td>\n",
       "      <td>Series C</td>\n",
       "    </tr>\n",
       "    <tr>\n",
       "      <th>1054</th>\n",
       "      <td>Pando</td>\n",
       "      <td>2017</td>\n",
       "      <td>Chennai</td>\n",
       "      <td>Logitech</td>\n",
       "      <td>Networked logistics management software</td>\n",
       "      <td>Jayakrishnan, Abhijeet Manohar</td>\n",
       "      <td>Chiratae Ventures</td>\n",
       "      <td>9000000.0</td>\n",
       "      <td>Series A</td>\n",
       "    </tr>\n",
       "  </tbody>\n",
       "</table>\n",
       "<p>1052 rows × 9 columns</p>\n",
       "</div>"
      ],
      "text/plain": [
       "      Company Name Founded       City              Sector  \\\n",
       "0       Aqgromalin    2019    Chennai            AgriTech   \n",
       "1         Krayonnz    2019  Bangalore              EdTech   \n",
       "2     PadCare Labs    2018       Pune  Hygiene management   \n",
       "3            NCOME    2020  New Delhi              Escrow   \n",
       "4       Gramophone    2016     Indore            AgriTech   \n",
       "...            ...     ...        ...                 ...   \n",
       "1050  Leverage Edu    2015      Delhi              Edtech   \n",
       "1051         EpiFi    2015        NaN             Fintech   \n",
       "1052       Purplle    2012     Mumbai           Cosmetics   \n",
       "1053        Shuttl    2015      Delhi           Transport   \n",
       "1054         Pando    2017    Chennai            Logitech   \n",
       "\n",
       "                                          About Company  \\\n",
       "0                          Cultivating Ideas for Profit   \n",
       "1     An academy-guardian-scholar centric ecosystem ...   \n",
       "2      Converting bio-hazardous waste to harmless waste   \n",
       "3                          Escrow-as-a-service platform   \n",
       "4     Gramophone is an AgTech platform enabling acce...   \n",
       "...                                                 ...   \n",
       "1050  AI enabled marketplace that provides career gu...   \n",
       "1051  It offers customers with a single interface fo...   \n",
       "1052         Online makeup and beauty products retailer   \n",
       "1053                    App based bus aggregator serice   \n",
       "1054            Networked logistics management software   \n",
       "\n",
       "                                               Founders  \\\n",
       "0                       Prasanna Manogaran, Bharani C L   \n",
       "1                      Saurabh Dixit, Gurudutt Upadhyay   \n",
       "2                                       Ajinkya Dhariya   \n",
       "3                                         Ritesh Tiwari   \n",
       "4     Ashish Rajan Singh, Harshit Gupta, Nishant Mah...   \n",
       "...                                                 ...   \n",
       "1050                                  Akshay Chaturvedi   \n",
       "1051                    Sujith Narayanan, Sumit Gwalani   \n",
       "1052                          Manish Taneja, Rahul Dash   \n",
       "1053                      Amit Singh, Deepanshu Malviya   \n",
       "1054                     Jayakrishnan, Abhijeet Manohar   \n",
       "\n",
       "                                   Investor      Amount       Stage  \n",
       "0                           Angel investors    200000.0    Series A  \n",
       "1                           GSF Accelerator    100000.0    Pre-seed  \n",
       "2                            Venture Center  11943500.0    Pre-seed  \n",
       "3       Venture Catalysts, PointOne Capital    400000.0    Series A  \n",
       "4       Siana Capital Management, Info Edge    340000.0    Series A  \n",
       "...                                     ...         ...         ...  \n",
       "1050  DSG Consumer Partners, Blume Ventures   1500000.0    Series A  \n",
       "1051          Sequoia India, Ribbit Capital  13200000.0  Seed Round  \n",
       "1052                             Verlinvest   8000000.0    Series A  \n",
       "1053             SIG Global India Fund LLP.   8043000.0    Series C  \n",
       "1054                      Chiratae Ventures   9000000.0    Series A  \n",
       "\n",
       "[1052 rows x 9 columns]"
      ]
     },
     "execution_count": 64,
     "metadata": {},
     "output_type": "execute_result"
    }
   ],
   "source": [
    "df"
   ]
  },
  {
   "cell_type": "markdown",
   "id": "2acaa5c3",
   "metadata": {},
   "source": [
    "# Renaming to standard"
   ]
  },
  {
   "cell_type": "code",
   "execution_count": 65,
   "id": "cd105eac",
   "metadata": {},
   "outputs": [
    {
     "data": {
      "text/plain": [
       "Index(['Company Name', 'Founded', 'City', 'Sector', 'About Company',\n",
       "       'Founders', 'Investor', 'Amount', 'Stage'],\n",
       "      dtype='object')"
      ]
     },
     "execution_count": 65,
     "metadata": {},
     "output_type": "execute_result"
    }
   ],
   "source": [
    "df.columns"
   ]
  },
  {
   "cell_type": "code",
   "execution_count": 69,
   "id": "49b6c9bf",
   "metadata": {},
   "outputs": [],
   "source": [
    "df = df.rename(columns={\"Company Name\": \"Company/Brand\", \"About Company\": \"What it does\", 'Amount' : \"Amount($)\"})"
   ]
  },
  {
   "cell_type": "code",
   "execution_count": 70,
   "id": "480bc1ed",
   "metadata": {},
   "outputs": [
    {
     "data": {
      "text/plain": [
       "Index(['Company/Brand', 'Founded', 'City', 'Sector', 'What it does',\n",
       "       'Founders', 'Investor', 'Amount($)', 'Stage'],\n",
       "      dtype='object')"
      ]
     },
     "execution_count": 70,
     "metadata": {},
     "output_type": "execute_result"
    }
   ],
   "source": [
    "df.columns"
   ]
  },
  {
   "cell_type": "code",
   "execution_count": 71,
   "id": "3a61977f",
   "metadata": {},
   "outputs": [],
   "source": [
    "file_name = \"cleaned 2020.xlsx\"\n",
    "\n",
    "df.to_excel(file_name)"
   ]
  },
  {
   "cell_type": "code",
   "execution_count": null,
   "id": "30ec5ca8",
   "metadata": {},
   "outputs": [],
   "source": []
  },
  {
   "cell_type": "markdown",
   "id": "6221fcc3",
   "metadata": {},
   "source": [
    "## Finally we have removed, in excel side, Column1 "
   ]
  }
 ],
 "metadata": {
  "kernelspec": {
   "display_name": "Python 3 (ipykernel)",
   "language": "python",
   "name": "python3"
  },
  "language_info": {
   "codemirror_mode": {
    "name": "ipython",
    "version": 3
   },
   "file_extension": ".py",
   "mimetype": "text/x-python",
   "name": "python",
   "nbconvert_exporter": "python",
   "pygments_lexer": "ipython3",
   "version": "3.9.7"
  }
 },
 "nbformat": 4,
 "nbformat_minor": 5
}
