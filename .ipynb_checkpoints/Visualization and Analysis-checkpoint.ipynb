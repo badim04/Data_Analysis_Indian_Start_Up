{
 "cells": [
  {
   "cell_type": "code",
   "execution_count": null,
   "id": "5c2ec8e2",
   "metadata": {},
   "outputs": [],
   "source": []
  },
  {
   "cell_type": "code",
   "execution_count": 1,
   "id": "a929a9d1",
   "metadata": {},
   "outputs": [],
   "source": [
    "import pandas as pd\n",
    "import matplotlib.pyplot as plt\n",
    "import seaborn as sns"
   ]
  },
  {
   "cell_type": "code",
   "execution_count": 2,
   "id": "d692b8d9",
   "metadata": {},
   "outputs": [],
   "source": [
    "df_2018 = pd.read_excel(\"cleaned 2018.xlsx\")\n",
    "df_2019 = pd.read_excel(\"cleaned 2019.xlsx\")\n",
    "df_2020 = pd.read_excel(\"cleaned 2020.xlsx\")\n",
    "df_2021 = pd.read_excel(\"cleaned 2021.xlsx\")"
   ]
  },
  {
   "cell_type": "code",
   "execution_count": 3,
   "id": "36ffa8eb",
   "metadata": {},
   "outputs": [],
   "source": [
    "df_2018.dropna(inplace=True)\n",
    "df_2018.reset_index(drop=True, inplace=True)\n",
    "\n",
    "df_2019.dropna(inplace=True)\n",
    "df_2019.reset_index(drop=True, inplace=True)\n",
    "\n",
    "df_2020.dropna(inplace=True)\n",
    "df_2020.reset_index(drop=True, inplace=True)\n",
    "\n",
    "df_2021.dropna(inplace=True)\n",
    "df_2021.reset_index(drop=True, inplace=True)"
   ]
  },
  {
   "cell_type": "code",
   "execution_count": 4,
   "id": "0b86df7e",
   "metadata": {},
   "outputs": [],
   "source": [
    "# Adding column year\n",
    "\n",
    "Year = [\"2018\" for i in range(df_2018.shape[0])]\n",
    "df_2018[\"Year\"] = Year\n",
    "\n",
    "Year = [\"2019\" for i in range(df_2019.shape[0])]\n",
    "df_2019[\"Year\"] = Year\n",
    "\n",
    "Year = [\"2020\" for i in range(df_2020.shape[0])]\n",
    "df_2020[\"Year\"] = Year\n",
    "\n",
    "Year = [\"2021\" for i in range(df_2021.shape[0])]\n",
    "df_2021[\"Year\"] = Year"
   ]
  },
  {
   "cell_type": "code",
   "execution_count": 5,
   "id": "2e08cee4",
   "metadata": {},
   "outputs": [],
   "source": [
    "data = [df_2018, df_2019, df_2020, df_2021]\n",
    "df_main = pd.concat(data)"
   ]
  },
  {
   "cell_type": "code",
   "execution_count": 6,
   "id": "e6ae59c9",
   "metadata": {},
   "outputs": [
    {
     "data": {
      "text/plain": [
       "Company/Brand     True\n",
       "Industry          True\n",
       "Series            True\n",
       "Amount($)        False\n",
       "What it does     False\n",
       "City              True\n",
       "Sub city          True\n",
       "Sector           False\n",
       "Year             False\n",
       "Company Name      True\n",
       "Founded           True\n",
       "Founders          True\n",
       "Investor          True\n",
       "Stage             True\n",
       "HeadQuarter       True\n",
       "dtype: bool"
      ]
     },
     "execution_count": 6,
     "metadata": {},
     "output_type": "execute_result"
    }
   ],
   "source": [
    "df_main.isnull().any()"
   ]
  },
  {
   "cell_type": "markdown",
   "id": "2f1ca393",
   "metadata": {},
   "source": [
    "## Statistics "
   ]
  },
  {
   "cell_type": "code",
   "execution_count": 7,
   "id": "fcd9dba5",
   "metadata": {},
   "outputs": [
    {
     "data": {
      "text/html": [
       "<div>\n",
       "<style scoped>\n",
       "    .dataframe tbody tr th:only-of-type {\n",
       "        vertical-align: middle;\n",
       "    }\n",
       "\n",
       "    .dataframe tbody tr th {\n",
       "        vertical-align: top;\n",
       "    }\n",
       "\n",
       "    .dataframe thead th {\n",
       "        text-align: right;\n",
       "    }\n",
       "</style>\n",
       "<table border=\"1\" class=\"dataframe\">\n",
       "  <thead>\n",
       "    <tr style=\"text-align: right;\">\n",
       "      <th></th>\n",
       "      <th>Amount($)</th>\n",
       "    </tr>\n",
       "  </thead>\n",
       "  <tbody>\n",
       "    <tr>\n",
       "      <th>count</th>\n",
       "      <td>2.625000e+03</td>\n",
       "    </tr>\n",
       "    <tr>\n",
       "      <th>mean</th>\n",
       "      <td>1.263817e+08</td>\n",
       "    </tr>\n",
       "    <tr>\n",
       "      <th>std</th>\n",
       "      <td>3.249302e+09</td>\n",
       "    </tr>\n",
       "    <tr>\n",
       "      <th>min</th>\n",
       "      <td>0.000000e+00</td>\n",
       "    </tr>\n",
       "    <tr>\n",
       "      <th>25%</th>\n",
       "      <td>6.000000e+05</td>\n",
       "    </tr>\n",
       "    <tr>\n",
       "      <th>50%</th>\n",
       "      <td>3.500000e+06</td>\n",
       "    </tr>\n",
       "    <tr>\n",
       "      <th>75%</th>\n",
       "      <td>1.194350e+07</td>\n",
       "    </tr>\n",
       "    <tr>\n",
       "      <th>max</th>\n",
       "      <td>1.500000e+11</td>\n",
       "    </tr>\n",
       "  </tbody>\n",
       "</table>\n",
       "</div>"
      ],
      "text/plain": [
       "          Amount($)\n",
       "count  2.625000e+03\n",
       "mean   1.263817e+08\n",
       "std    3.249302e+09\n",
       "min    0.000000e+00\n",
       "25%    6.000000e+05\n",
       "50%    3.500000e+06\n",
       "75%    1.194350e+07\n",
       "max    1.500000e+11"
      ]
     },
     "execution_count": 7,
     "metadata": {},
     "output_type": "execute_result"
    }
   ],
   "source": [
    "df_main.describe()"
   ]
  },
  {
   "cell_type": "code",
   "execution_count": 8,
   "id": "e7d89ed5",
   "metadata": {},
   "outputs": [
    {
     "data": {
      "text/plain": [
       "array([[<AxesSubplot:title={'center':'Amount($)'}>, <AxesSubplot:>,\n",
       "        <AxesSubplot:>, <AxesSubplot:>],\n",
       "       [<AxesSubplot:>, <AxesSubplot:>, <AxesSubplot:>, <AxesSubplot:>],\n",
       "       [<AxesSubplot:>, <AxesSubplot:>, <AxesSubplot:>, <AxesSubplot:>]],\n",
       "      dtype=object)"
      ]
     },
     "execution_count": 8,
     "metadata": {},
     "output_type": "execute_result"
    },
    {
     "data": {
      "image/png": "[encoded data removed]",
      "text/plain": [
       "<Figure size 1080x1080 with 12 Axes>"
      ]
     },
     "metadata": {
      "needs_background": "light"
     },
     "output_type": "display_data"
    }
   ],
   "source": [
    "df_main.hist(\n",
    "    figsize=(15, 15),\n",
    "    layout=(3,4),\n",
    "    bins=20\n",
    ")"
   ]
  },
  {
   "cell_type": "markdown",
   "id": "20ea0ae6",
   "metadata": {},
   "source": [
    "## A company with lagest amount of investment"
   ]
  },
  {
   "cell_type": "code",
   "execution_count": 9,
   "id": "ec765164",
   "metadata": {},
   "outputs": [],
   "source": [
    "large_com = df_main.sort_values(by='Amount($)', ascending=False).head(1)"
   ]
  },
  {
   "cell_type": "code",
   "execution_count": 10,
   "id": "bae4c353",
   "metadata": {},
   "outputs": [
    {
     "data": {
      "text/html": [
       "<div>\n",
       "<style scoped>\n",
       "    .dataframe tbody tr th:only-of-type {\n",
       "        vertical-align: middle;\n",
       "    }\n",
       "\n",
       "    .dataframe tbody tr th {\n",
       "        vertical-align: top;\n",
       "    }\n",
       "\n",
       "    .dataframe thead th {\n",
       "        text-align: right;\n",
       "    }\n",
       "</style>\n",
       "<table border=\"1\" class=\"dataframe\">\n",
       "  <thead>\n",
       "    <tr style=\"text-align: right;\">\n",
       "      <th></th>\n",
       "      <th>Company/Brand</th>\n",
       "      <th>Industry</th>\n",
       "      <th>Series</th>\n",
       "      <th>Amount($)</th>\n",
       "      <th>What it does</th>\n",
       "      <th>City</th>\n",
       "      <th>Sub city</th>\n",
       "      <th>Sector</th>\n",
       "      <th>Year</th>\n",
       "      <th>Company Name</th>\n",
       "      <th>Founded</th>\n",
       "      <th>Founders</th>\n",
       "      <th>Investor</th>\n",
       "      <th>Stage</th>\n",
       "      <th>HeadQuarter</th>\n",
       "    </tr>\n",
       "  </thead>\n",
       "  <tbody>\n",
       "    <tr>\n",
       "      <th>73</th>\n",
       "      <td>Alteria Capital</td>\n",
       "      <td>NaN</td>\n",
       "      <td>NaN</td>\n",
       "      <td>1.500000e+11</td>\n",
       "      <td>Alteria Capital is a Venture debt firm .</td>\n",
       "      <td>NaN</td>\n",
       "      <td>NaN</td>\n",
       "      <td>FinTech</td>\n",
       "      <td>2021</td>\n",
       "      <td>NaN</td>\n",
       "      <td>2018</td>\n",
       "      <td>Vinod Murali</td>\n",
       "      <td>unkown</td>\n",
       "      <td>Debt</td>\n",
       "      <td>Mumbai</td>\n",
       "    </tr>\n",
       "  </tbody>\n",
       "</table>\n",
       "</div>"
      ],
      "text/plain": [
       "      Company/Brand Industry Series     Amount($)  \\\n",
       "73  Alteria Capital      NaN    NaN  1.500000e+11   \n",
       "\n",
       "                                What it does City Sub city   Sector  Year  \\\n",
       "73  Alteria Capital is a Venture debt firm .  NaN      NaN  FinTech  2021   \n",
       "\n",
       "   Company Name Founded      Founders Investor Stage HeadQuarter  \n",
       "73          NaN    2018  Vinod Murali   unkown  Debt      Mumbai  "
      ]
     },
     "execution_count": 10,
     "metadata": {},
     "output_type": "execute_result"
    }
   ],
   "source": [
    "large_com"
   ]
  },
  {
   "cell_type": "markdown",
   "id": "954d0847",
   "metadata": {},
   "source": [
    "## Top 10 Companies with high Amount"
   ]
  },
  {
   "cell_type": "code",
   "execution_count": 11,
   "id": "835c4915",
   "metadata": {},
   "outputs": [],
   "source": [
    "top_10_com = df_main.groupby(\"Company/Brand\")[\"Amount($)\"].sum().reset_index()"
   ]
  },
  {
   "cell_type": "code",
   "execution_count": 12,
   "id": "d4a98fcb",
   "metadata": {},
   "outputs": [],
   "source": [
    "top_10_com = top_10_com.sort_values(by = \"Amount($)\", ascending = False).head(10)"
   ]
  },
  {
   "cell_type": "code",
   "execution_count": 13,
   "id": "db8cbb6a",
   "metadata": {},
   "outputs": [
    {
     "data": {
      "text/html": [
       "<div>\n",
       "<style scoped>\n",
       "    .dataframe tbody tr th:only-of-type {\n",
       "        vertical-align: middle;\n",
       "    }\n",
       "\n",
       "    .dataframe tbody tr th {\n",
       "        vertical-align: top;\n",
       "    }\n",
       "\n",
       "    .dataframe thead th {\n",
       "        text-align: right;\n",
       "    }\n",
       "</style>\n",
       "<table border=\"1\" class=\"dataframe\">\n",
       "  <thead>\n",
       "    <tr style=\"text-align: right;\">\n",
       "      <th></th>\n",
       "      <th>Company/Brand</th>\n",
       "      <th>Amount($)</th>\n",
       "    </tr>\n",
       "  </thead>\n",
       "  <tbody>\n",
       "    <tr>\n",
       "      <th>64</th>\n",
       "      <td>Alteria Capital</td>\n",
       "      <td>1.500000e+11</td>\n",
       "    </tr>\n",
       "    <tr>\n",
       "      <th>1393</th>\n",
       "      <td>Reliance Retail Ventures Ltd</td>\n",
       "      <td>7.000000e+10</td>\n",
       "    </tr>\n",
       "    <tr>\n",
       "      <th>820</th>\n",
       "      <td>Indiabulls Ventures</td>\n",
       "      <td>1.539200e+10</td>\n",
       "    </tr>\n",
       "    <tr>\n",
       "      <th>643</th>\n",
       "      <td>Fusion Microfinance</td>\n",
       "      <td>5.200000e+09</td>\n",
       "    </tr>\n",
       "    <tr>\n",
       "      <th>316</th>\n",
       "      <td>ClearTax</td>\n",
       "      <td>4.000000e+09</td>\n",
       "    </tr>\n",
       "    <tr>\n",
       "      <th>1537</th>\n",
       "      <td>Snowflake</td>\n",
       "      <td>3.000000e+09</td>\n",
       "    </tr>\n",
       "    <tr>\n",
       "      <th>1156</th>\n",
       "      <td>Ninjacart</td>\n",
       "      <td>2.540000e+09</td>\n",
       "    </tr>\n",
       "    <tr>\n",
       "      <th>23</th>\n",
       "      <td>APAC Financial Services</td>\n",
       "      <td>2.500000e+09</td>\n",
       "    </tr>\n",
       "    <tr>\n",
       "      <th>1390</th>\n",
       "      <td>Reliance</td>\n",
       "      <td>2.200000e+09</td>\n",
       "    </tr>\n",
       "    <tr>\n",
       "      <th>202</th>\n",
       "      <td>Blackbuck</td>\n",
       "      <td>2.041544e+09</td>\n",
       "    </tr>\n",
       "  </tbody>\n",
       "</table>\n",
       "</div>"
      ],
      "text/plain": [
       "                     Company/Brand     Amount($)\n",
       "64                 Alteria Capital  1.500000e+11\n",
       "1393  Reliance Retail Ventures Ltd  7.000000e+10\n",
       "820            Indiabulls Ventures  1.539200e+10\n",
       "643            Fusion Microfinance  5.200000e+09\n",
       "316                       ClearTax  4.000000e+09\n",
       "1537                     Snowflake  3.000000e+09\n",
       "1156                     Ninjacart  2.540000e+09\n",
       "23         APAC Financial Services  2.500000e+09\n",
       "1390                      Reliance  2.200000e+09\n",
       "202                      Blackbuck  2.041544e+09"
      ]
     },
     "execution_count": 13,
     "metadata": {},
     "output_type": "execute_result"
    }
   ],
   "source": [
    "top_10_com"
   ]
  },
  {
   "cell_type": "code",
   "execution_count": 14,
   "id": "bb4df1be",
   "metadata": {},
   "outputs": [],
   "source": [
    "top_10_com[\"Amount($)\"] = top_10_com[\"Amount($)\"].apply(lambda x : \"{:.0f}\".format(x) )"
   ]
  },
  {
   "cell_type": "code",
   "execution_count": 15,
   "id": "05e29022",
   "metadata": {},
   "outputs": [],
   "source": [
    "top_10_com[\"Amount($)\"] = top_10_com[\"Amount($)\"].astype(float)"
   ]
  },
  {
   "cell_type": "code",
   "execution_count": 16,
   "id": "a6cebf37",
   "metadata": {},
   "outputs": [
    {
     "data": {
      "text/plain": [
       "pandas.core.series.Series"
      ]
     },
     "execution_count": 16,
     "metadata": {},
     "output_type": "execute_result"
    }
   ],
   "source": [
    "type(top_10_com[\"Amount($)\"])"
   ]
  },
  {
   "cell_type": "code",
   "execution_count": 17,
   "id": "da43e6d0",
   "metadata": {},
   "outputs": [
    {
     "data": {
      "image/png": "[encoded data removed]",
      "text/plain": [
       "<Figure size 576x360 with 1 Axes>"
      ]
     },
     "metadata": {
      "needs_background": "light"
     },
     "output_type": "display_data"
    }
   ],
   "source": [
    "plt.figure(figsize=(8,5))\n",
    "plt.title(\"Top 10 Companies with high Amount\")\n",
    "plt.style.use(\"fivethirtyeight\")\n",
    "fig = sns.barplot(y = \"Company/Brand\", x = \"Amount($)\", palette = \"Blues_d\", data = top_10_com)\n",
    "fig.set(xlabel=\"Amounts in Billion\", ylabel=\"Company\")\n",
    "for i in fig.containers:\n",
    "    fig.bar_label(i,)\n",
    "plt.show()"
   ]
  },
  {
   "cell_type": "markdown",
   "id": "ce1660e3",
   "metadata": {},
   "source": [
    "## Top 10 cities with high amount"
   ]
  },
  {
   "cell_type": "code",
   "execution_count": 18,
   "id": "32512bb9",
   "metadata": {},
   "outputs": [],
   "source": [
    "top_cities = df_main.sort_values(by=\"Amount($)\", ascending=False).head(10)"
   ]
  },
  {
   "cell_type": "code",
   "execution_count": 19,
   "id": "29c089ab",
   "metadata": {},
   "outputs": [
    {
     "data": {
      "text/plain": [
       "73     1.500000e+11\n",
       "274    7.000000e+10\n",
       "287    1.539200e+10\n",
       "114    5.200000e+09\n",
       "288    4.000000e+09\n",
       "311    3.000000e+09\n",
       "84     2.500000e+09\n",
       "93     2.500000e+09\n",
       "322    2.200000e+09\n",
       "305    2.029600e+09\n",
       "Name: Amount($), dtype: float64"
      ]
     },
     "execution_count": 19,
     "metadata": {},
     "output_type": "execute_result"
    }
   ],
   "source": [
    "top_cities[\"Amount($)\"]"
   ]
  },
  {
   "cell_type": "code",
   "execution_count": 20,
   "id": "b0faa68b",
   "metadata": {},
   "outputs": [
    {
     "data": {
      "image/png": "[encoded data removed]",
      "text/plain": [
       "<Figure size 576x360 with 1 Axes>"
      ]
     },
     "metadata": {},
     "output_type": "display_data"
    }
   ],
   "source": [
    "plt.figure(figsize=(8,5))\n",
    "plt.title(\"Top 10 Citites with high Amount\")\n",
    "fig = sns.barplot(x = top_cities.City, data = top_cities, y = top_cities[\"Amount($)\"], hue=\"City\")\n",
    "\n",
    "fig.set(xlabel=\"Ciity\", ylabel=\"Amount\")\n",
    "for i in fig.containers:\n",
    "    fig.bar_label(i,)\n",
    "plt.show()"
   ]
  },
  {
   "cell_type": "markdown",
   "id": "e047abf1",
   "metadata": {},
   "source": [
    "## Top 5 Cities with high number of Companies"
   ]
  },
  {
   "cell_type": "code",
   "execution_count": 21,
   "id": "5012c4a2",
   "metadata": {},
   "outputs": [],
   "source": [
    "a = df_main.groupby(\"City\")[\"Company/Brand\"].count().reset_index()\n",
    "a = a.sort_values(\"Company/Brand\", ascending=False)"
   ]
  },
  {
   "cell_type": "code",
   "execution_count": 22,
   "id": "d121f20c",
   "metadata": {},
   "outputs": [],
   "source": [
    "a = a.head(5)"
   ]
  },
  {
   "cell_type": "code",
   "execution_count": 23,
   "id": "eb30ffda",
   "metadata": {},
   "outputs": [
    {
     "data": {
      "text/html": [
       "<div>\n",
       "<style scoped>\n",
       "    .dataframe tbody tr th:only-of-type {\n",
       "        vertical-align: middle;\n",
       "    }\n",
       "\n",
       "    .dataframe tbody tr th {\n",
       "        vertical-align: top;\n",
       "    }\n",
       "\n",
       "    .dataframe thead th {\n",
       "        text-align: right;\n",
       "    }\n",
       "</style>\n",
       "<table border=\"1\" class=\"dataframe\">\n",
       "  <thead>\n",
       "    <tr style=\"text-align: right;\">\n",
       "      <th></th>\n",
       "      <th>City</th>\n",
       "      <th>Company/Brand</th>\n",
       "    </tr>\n",
       "  </thead>\n",
       "  <tbody>\n",
       "    <tr>\n",
       "      <th>6</th>\n",
       "      <td>Bangalore</td>\n",
       "      <td>388</td>\n",
       "    </tr>\n",
       "    <tr>\n",
       "      <th>55</th>\n",
       "      <td>Mumbai</td>\n",
       "      <td>236</td>\n",
       "    </tr>\n",
       "    <tr>\n",
       "      <th>30</th>\n",
       "      <td>Gurugram</td>\n",
       "      <td>79</td>\n",
       "    </tr>\n",
       "    <tr>\n",
       "      <th>57</th>\n",
       "      <td>New Delhi</td>\n",
       "      <td>73</td>\n",
       "    </tr>\n",
       "    <tr>\n",
       "      <th>21</th>\n",
       "      <td>Delhi</td>\n",
       "      <td>73</td>\n",
       "    </tr>\n",
       "  </tbody>\n",
       "</table>\n",
       "</div>"
      ],
      "text/plain": [
       "         City  Company/Brand\n",
       "6   Bangalore            388\n",
       "55     Mumbai            236\n",
       "30   Gurugram             79\n",
       "57  New Delhi             73\n",
       "21      Delhi             73"
      ]
     },
     "execution_count": 23,
     "metadata": {},
     "output_type": "execute_result"
    }
   ],
   "source": [
    "a"
   ]
  },
  {
   "cell_type": "markdown",
   "id": "e5a577d7",
   "metadata": {},
   "source": []
  },
  {
   "cell_type": "code",
   "execution_count": 24,
   "id": "c025ad3f",
   "metadata": {},
   "outputs": [
    {
     "data": {
      "image/png": "[encoded data removed]",
      "text/plain": [
       "<Figure size 576x360 with 1 Axes>"
      ]
     },
     "metadata": {},
     "output_type": "display_data"
    }
   ],
   "source": [
    "plt.figure(figsize=(8,5))\n",
    "plt.title(\"Top 5 Cities with high number of company\")\n",
    "fig = sns.barplot(x = \"City\", data = a, y = \"Company/Brand\", hue=\"City\")\n",
    "\n",
    "fig.set(xlabel=\"City\", ylabel=\"Company\")\n",
    "for i in fig.containers:\n",
    "    fig.bar_label(i,)\n",
    "plt.show()"
   ]
  },
  {
   "cell_type": "code",
   "execution_count": 25,
   "id": "fa5a2b9a",
   "metadata": {},
   "outputs": [],
   "source": [
    "b = df_main.groupby(\"Sector\").count().reset_index()"
   ]
  },
  {
   "cell_type": "code",
   "execution_count": 26,
   "id": "b975d1a4",
   "metadata": {},
   "outputs": [],
   "source": [
    "b = b.sort_values(by=\"City\", ascending=False)"
   ]
  },
  {
   "cell_type": "code",
   "execution_count": 27,
   "id": "298bc2cb",
   "metadata": {},
   "outputs": [],
   "source": [
    "b = b.head(5)"
   ]
  },
  {
   "cell_type": "code",
   "execution_count": 28,
   "id": "67a25c89",
   "metadata": {},
   "outputs": [
    {
     "data": {
      "text/html": [
       "<div>\n",
       "<style scoped>\n",
       "    .dataframe tbody tr th:only-of-type {\n",
       "        vertical-align: middle;\n",
       "    }\n",
       "\n",
       "    .dataframe tbody tr th {\n",
       "        vertical-align: top;\n",
       "    }\n",
       "\n",
       "    .dataframe thead th {\n",
       "        text-align: right;\n",
       "    }\n",
       "</style>\n",
       "<table border=\"1\" class=\"dataframe\">\n",
       "  <thead>\n",
       "    <tr style=\"text-align: right;\">\n",
       "      <th></th>\n",
       "      <th>Sector</th>\n",
       "      <th>Company/Brand</th>\n",
       "      <th>Industry</th>\n",
       "      <th>Series</th>\n",
       "      <th>Amount($)</th>\n",
       "      <th>What it does</th>\n",
       "      <th>City</th>\n",
       "      <th>Sub city</th>\n",
       "      <th>Year</th>\n",
       "      <th>Company Name</th>\n",
       "      <th>Founded</th>\n",
       "      <th>Founders</th>\n",
       "      <th>Investor</th>\n",
       "      <th>Stage</th>\n",
       "      <th>HeadQuarter</th>\n",
       "    </tr>\n",
       "  </thead>\n",
       "  <tbody>\n",
       "    <tr>\n",
       "      <th>518</th>\n",
       "      <td>Fintech</td>\n",
       "      <td>68</td>\n",
       "      <td>0</td>\n",
       "      <td>5</td>\n",
       "      <td>73</td>\n",
       "      <td>73</td>\n",
       "      <td>73</td>\n",
       "      <td>0</td>\n",
       "      <td>73</td>\n",
       "      <td>5</td>\n",
       "      <td>73</td>\n",
       "      <td>73</td>\n",
       "      <td>73</td>\n",
       "      <td>68</td>\n",
       "      <td>0</td>\n",
       "    </tr>\n",
       "    <tr>\n",
       "      <th>486</th>\n",
       "      <td>Edtech</td>\n",
       "      <td>57</td>\n",
       "      <td>0</td>\n",
       "      <td>12</td>\n",
       "      <td>69</td>\n",
       "      <td>69</td>\n",
       "      <td>69</td>\n",
       "      <td>0</td>\n",
       "      <td>69</td>\n",
       "      <td>12</td>\n",
       "      <td>69</td>\n",
       "      <td>69</td>\n",
       "      <td>69</td>\n",
       "      <td>57</td>\n",
       "      <td>0</td>\n",
       "    </tr>\n",
       "    <tr>\n",
       "      <th>514</th>\n",
       "      <td>FinTech</td>\n",
       "      <td>173</td>\n",
       "      <td>0</td>\n",
       "      <td>0</td>\n",
       "      <td>173</td>\n",
       "      <td>173</td>\n",
       "      <td>51</td>\n",
       "      <td>0</td>\n",
       "      <td>173</td>\n",
       "      <td>0</td>\n",
       "      <td>173</td>\n",
       "      <td>173</td>\n",
       "      <td>173</td>\n",
       "      <td>173</td>\n",
       "      <td>122</td>\n",
       "    </tr>\n",
       "    <tr>\n",
       "      <th>483</th>\n",
       "      <td>EdTech</td>\n",
       "      <td>140</td>\n",
       "      <td>0</td>\n",
       "      <td>0</td>\n",
       "      <td>140</td>\n",
       "      <td>140</td>\n",
       "      <td>38</td>\n",
       "      <td>0</td>\n",
       "      <td>140</td>\n",
       "      <td>0</td>\n",
       "      <td>140</td>\n",
       "      <td>140</td>\n",
       "      <td>140</td>\n",
       "      <td>140</td>\n",
       "      <td>102</td>\n",
       "    </tr>\n",
       "    <tr>\n",
       "      <th>473</th>\n",
       "      <td>E-commerce</td>\n",
       "      <td>70</td>\n",
       "      <td>0</td>\n",
       "      <td>3</td>\n",
       "      <td>73</td>\n",
       "      <td>73</td>\n",
       "      <td>36</td>\n",
       "      <td>0</td>\n",
       "      <td>73</td>\n",
       "      <td>3</td>\n",
       "      <td>73</td>\n",
       "      <td>73</td>\n",
       "      <td>73</td>\n",
       "      <td>70</td>\n",
       "      <td>37</td>\n",
       "    </tr>\n",
       "  </tbody>\n",
       "</table>\n",
       "</div>"
      ],
      "text/plain": [
       "         Sector  Company/Brand  Industry  Series  Amount($)  What it does  \\\n",
       "518     Fintech             68         0       5         73            73   \n",
       "486      Edtech             57         0      12         69            69   \n",
       "514     FinTech            173         0       0        173           173   \n",
       "483      EdTech            140         0       0        140           140   \n",
       "473  E-commerce             70         0       3         73            73   \n",
       "\n",
       "     City  Sub city  Year  Company Name  Founded  Founders  Investor  Stage  \\\n",
       "518    73         0    73             5       73        73        73     68   \n",
       "486    69         0    69            12       69        69        69     57   \n",
       "514    51         0   173             0      173       173       173    173   \n",
       "483    38         0   140             0      140       140       140    140   \n",
       "473    36         0    73             3       73        73        73     70   \n",
       "\n",
       "     HeadQuarter  \n",
       "518            0  \n",
       "486            0  \n",
       "514          122  \n",
       "483          102  \n",
       "473           37  "
      ]
     },
     "execution_count": 28,
     "metadata": {},
     "output_type": "execute_result"
    }
   ],
   "source": [
    "b"
   ]
  },
  {
   "cell_type": "markdown",
   "id": "03a258bb",
   "metadata": {},
   "source": [
    "#### I have seen that there is one value which is same but differ because of one letter being uppercase. so i have to clean it first."
   ]
  },
  {
   "cell_type": "code",
   "execution_count": 29,
   "id": "265efba1",
   "metadata": {},
   "outputs": [],
   "source": [
    "df_main[\"Sector\"] = df_main[\"Sector\"].replace('Fintech', \"FinTech\")\n",
    "df_main[\"Sector\"] = df_main[\"Sector\"].replace('Edtech', \"EdTech\")"
   ]
  },
  {
   "cell_type": "code",
   "execution_count": 30,
   "id": "877f4e47",
   "metadata": {},
   "outputs": [],
   "source": [
    "b = df_main.groupby(\"Sector\").count().reset_index()\n",
    "b = b.sort_values(by=\"City\", ascending=False)\n",
    "b = b.head(5)\n"
   ]
  },
  {
   "cell_type": "code",
   "execution_count": 31,
   "id": "22b8d973",
   "metadata": {},
   "outputs": [
    {
     "data": {
      "text/html": [
       "<div>\n",
       "<style scoped>\n",
       "    .dataframe tbody tr th:only-of-type {\n",
       "        vertical-align: middle;\n",
       "    }\n",
       "\n",
       "    .dataframe tbody tr th {\n",
       "        vertical-align: top;\n",
       "    }\n",
       "\n",
       "    .dataframe thead th {\n",
       "        text-align: right;\n",
       "    }\n",
       "</style>\n",
       "<table border=\"1\" class=\"dataframe\">\n",
       "  <thead>\n",
       "    <tr style=\"text-align: right;\">\n",
       "      <th></th>\n",
       "      <th>Sector</th>\n",
       "      <th>Company/Brand</th>\n",
       "      <th>Industry</th>\n",
       "      <th>Series</th>\n",
       "      <th>Amount($)</th>\n",
       "      <th>What it does</th>\n",
       "      <th>City</th>\n",
       "      <th>Sub city</th>\n",
       "      <th>Year</th>\n",
       "      <th>Company Name</th>\n",
       "      <th>Founded</th>\n",
       "      <th>Founders</th>\n",
       "      <th>Investor</th>\n",
       "      <th>Stage</th>\n",
       "      <th>HeadQuarter</th>\n",
       "    </tr>\n",
       "  </thead>\n",
       "  <tbody>\n",
       "    <tr>\n",
       "      <th>513</th>\n",
       "      <td>FinTech</td>\n",
       "      <td>241</td>\n",
       "      <td>0</td>\n",
       "      <td>5</td>\n",
       "      <td>246</td>\n",
       "      <td>246</td>\n",
       "      <td>124</td>\n",
       "      <td>0</td>\n",
       "      <td>246</td>\n",
       "      <td>5</td>\n",
       "      <td>246</td>\n",
       "      <td>246</td>\n",
       "      <td>246</td>\n",
       "      <td>241</td>\n",
       "      <td>122</td>\n",
       "    </tr>\n",
       "    <tr>\n",
       "      <th>483</th>\n",
       "      <td>EdTech</td>\n",
       "      <td>197</td>\n",
       "      <td>0</td>\n",
       "      <td>12</td>\n",
       "      <td>209</td>\n",
       "      <td>209</td>\n",
       "      <td>107</td>\n",
       "      <td>0</td>\n",
       "      <td>209</td>\n",
       "      <td>12</td>\n",
       "      <td>209</td>\n",
       "      <td>209</td>\n",
       "      <td>209</td>\n",
       "      <td>197</td>\n",
       "      <td>102</td>\n",
       "    </tr>\n",
       "    <tr>\n",
       "      <th>473</th>\n",
       "      <td>E-commerce</td>\n",
       "      <td>70</td>\n",
       "      <td>0</td>\n",
       "      <td>3</td>\n",
       "      <td>73</td>\n",
       "      <td>73</td>\n",
       "      <td>36</td>\n",
       "      <td>0</td>\n",
       "      <td>73</td>\n",
       "      <td>3</td>\n",
       "      <td>73</td>\n",
       "      <td>73</td>\n",
       "      <td>73</td>\n",
       "      <td>70</td>\n",
       "      <td>37</td>\n",
       "    </tr>\n",
       "    <tr>\n",
       "      <th>559</th>\n",
       "      <td>Healthtech</td>\n",
       "      <td>29</td>\n",
       "      <td>0</td>\n",
       "      <td>1</td>\n",
       "      <td>30</td>\n",
       "      <td>30</td>\n",
       "      <td>26</td>\n",
       "      <td>0</td>\n",
       "      <td>30</td>\n",
       "      <td>1</td>\n",
       "      <td>30</td>\n",
       "      <td>30</td>\n",
       "      <td>30</td>\n",
       "      <td>29</td>\n",
       "      <td>4</td>\n",
       "    </tr>\n",
       "    <tr>\n",
       "      <th>703</th>\n",
       "      <td>SaaS</td>\n",
       "      <td>23</td>\n",
       "      <td>0</td>\n",
       "      <td>4</td>\n",
       "      <td>27</td>\n",
       "      <td>27</td>\n",
       "      <td>25</td>\n",
       "      <td>0</td>\n",
       "      <td>27</td>\n",
       "      <td>4</td>\n",
       "      <td>27</td>\n",
       "      <td>27</td>\n",
       "      <td>27</td>\n",
       "      <td>23</td>\n",
       "      <td>2</td>\n",
       "    </tr>\n",
       "  </tbody>\n",
       "</table>\n",
       "</div>"
      ],
      "text/plain": [
       "         Sector  Company/Brand  Industry  Series  Amount($)  What it does  \\\n",
       "513     FinTech            241         0       5        246           246   \n",
       "483      EdTech            197         0      12        209           209   \n",
       "473  E-commerce             70         0       3         73            73   \n",
       "559  Healthtech             29         0       1         30            30   \n",
       "703        SaaS             23         0       4         27            27   \n",
       "\n",
       "     City  Sub city  Year  Company Name  Founded  Founders  Investor  Stage  \\\n",
       "513   124         0   246             5      246       246       246    241   \n",
       "483   107         0   209            12      209       209       209    197   \n",
       "473    36         0    73             3       73        73        73     70   \n",
       "559    26         0    30             1       30        30        30     29   \n",
       "703    25         0    27             4       27        27        27     23   \n",
       "\n",
       "     HeadQuarter  \n",
       "513          122  \n",
       "483          102  \n",
       "473           37  \n",
       "559            4  \n",
       "703            2  "
      ]
     },
     "execution_count": 31,
     "metadata": {},
     "output_type": "execute_result"
    }
   ],
   "source": [
    "b"
   ]
  },
  {
   "cell_type": "code",
   "execution_count": 46,
   "id": "009f0225",
   "metadata": {},
   "outputs": [
    {
     "data": {
      "image/png": "[encoded data removed]",
      "text/plain": [
       "<Figure size 800x500 with 1 Axes>"
      ]
     },
     "metadata": {},
     "output_type": "display_data"
    }
   ],
   "source": [
    "plt.figure(figsize=(8,5))\n",
    "plt.title(\"Top 5 Cities with high number of Sector\")\n",
    "fig = sns.barplot(y = \"Sector\", data = b, x = \"Company/Brand\", hue=\"Sector\")\n",
    "\n",
    "fig.set(xlabel=\"Number\", ylabel=\"Sector\")\n",
    "for i in fig.containers:\n",
    "    fig.bar_label(i,)\n",
    "plt.show()"
   ]
  },
  {
   "cell_type": "code",
   "execution_count": 47,
   "id": "6c06c2b2",
   "metadata": {},
   "outputs": [
    {
     "data": {
      "text/html": [
       "<div>\n",
       "<style scoped>\n",
       "    .dataframe tbody tr th:only-of-type {\n",
       "        vertical-align: middle;\n",
       "    }\n",
       "\n",
       "    .dataframe tbody tr th {\n",
       "        vertical-align: top;\n",
       "    }\n",
       "\n",
       "    .dataframe thead th {\n",
       "        text-align: right;\n",
       "    }\n",
       "</style>\n",
       "<table border=\"1\" class=\"dataframe\">\n",
       "  <thead>\n",
       "    <tr style=\"text-align: right;\">\n",
       "      <th></th>\n",
       "      <th>Year</th>\n",
       "      <th>Amount($)</th>\n",
       "    </tr>\n",
       "  </thead>\n",
       "  <tbody>\n",
       "    <tr>\n",
       "      <th>0</th>\n",
       "      <td>2018</td>\n",
       "      <td>8.717859e+10</td>\n",
       "    </tr>\n",
       "    <tr>\n",
       "      <th>1</th>\n",
       "      <td>2019</td>\n",
       "      <td>3.336433e+09</td>\n",
       "    </tr>\n",
       "    <tr>\n",
       "      <th>2</th>\n",
       "      <td>2020</td>\n",
       "      <td>9.136121e+10</td>\n",
       "    </tr>\n",
       "    <tr>\n",
       "      <th>3</th>\n",
       "      <td>2021</td>\n",
       "      <td>1.798134e+11</td>\n",
       "    </tr>\n",
       "  </tbody>\n",
       "</table>\n",
       "</div>"
      ],
      "text/plain": [
       "   Year     Amount($)\n",
       "0  2018  8.717859e+10\n",
       "1  2019  3.336433e+09\n",
       "2  2020  9.136121e+10\n",
       "3  2021  1.798134e+11"
      ]
     },
     "execution_count": 47,
     "metadata": {},
     "output_type": "execute_result"
    }
   ],
   "source": [
    "c = df_main.groupby(\"Year\").sum()\n",
    "c = c.sort_values(by=\"Year\").reset_index()\n",
    "c"
   ]
  },
  {
   "cell_type": "code",
   "execution_count": 48,
   "id": "ca197fcf",
   "metadata": {},
   "outputs": [
    {
     "data": {
      "image/png": "[encoded data removed]",
      "text/plain": [
       "<Figure size 800x500 with 1 Axes>"
      ]
     },
     "metadata": {},
     "output_type": "display_data"
    }
   ],
   "source": [
    "plt.figure(figsize=(8,5))\n",
    "fig = sns.lineplot(data=c, x=\"Year\", y=\"Amount($)\")\n",
    "\n",
    "plt.title(\"Total Amount in each year\")\n",
    "plt.ylabel(\"Amount in Billions\")\n",
    "\n",
    "for i in fig.containers:\n",
    "    fig.bar_label(i,)\n",
    "    \n",
    "\n",
    "plt.show()"
   ]
  },
  {
   "cell_type": "markdown",
   "id": "7953e988",
   "metadata": {},
   "source": [
    "## Stages in each year"
   ]
  },
  {
   "cell_type": "code",
   "execution_count": 73,
   "id": "ece5cf6f",
   "metadata": {},
   "outputs": [
    {
     "data": {
      "text/html": [
       "<div>\n",
       "<style scoped>\n",
       "    .dataframe tbody tr th:only-of-type {\n",
       "        vertical-align: middle;\n",
       "    }\n",
       "\n",
       "    .dataframe tbody tr th {\n",
       "        vertical-align: top;\n",
       "    }\n",
       "\n",
       "    .dataframe thead th {\n",
       "        text-align: right;\n",
       "    }\n",
       "</style>\n",
       "<table border=\"1\" class=\"dataframe\">\n",
       "  <thead>\n",
       "    <tr style=\"text-align: right;\">\n",
       "      <th></th>\n",
       "      <th>Year</th>\n",
       "      <th>Stage</th>\n",
       "    </tr>\n",
       "  </thead>\n",
       "  <tbody>\n",
       "    <tr>\n",
       "      <th>0</th>\n",
       "      <td>2018</td>\n",
       "      <td>525</td>\n",
       "    </tr>\n",
       "    <tr>\n",
       "      <th>1</th>\n",
       "      <td>2019</td>\n",
       "      <td>89</td>\n",
       "    </tr>\n",
       "    <tr>\n",
       "      <th>2</th>\n",
       "      <td>2020</td>\n",
       "      <td>958</td>\n",
       "    </tr>\n",
       "    <tr>\n",
       "      <th>3</th>\n",
       "      <td>2021</td>\n",
       "      <td>1206</td>\n",
       "    </tr>\n",
       "  </tbody>\n",
       "</table>\n",
       "</div>"
      ],
      "text/plain": [
       "   Year  Stage\n",
       "0  2018    525\n",
       "1  2019     89\n",
       "2  2020    958\n",
       "3  2021   1206"
      ]
     },
     "execution_count": 73,
     "metadata": {},
     "output_type": "execute_result"
    }
   ],
   "source": [
    "d = df_main.groupby(by=\"Year\")[\"Stage\"].count().reset_index()\n",
    "d"
   ]
  },
  {
   "cell_type": "code",
   "execution_count": 77,
   "id": "a68406ca",
   "metadata": {},
   "outputs": [
    {
     "data": {
      "image/png": "[encoded data removed]",
      "text/plain": [
       "<Figure size 640x480 with 1 Axes>"
      ]
     },
     "metadata": {},
     "output_type": "display_data"
    }
   ],
   "source": [
    "data = d.Stage\n",
    "labels = d.Year\n",
    "\n",
    "#define Seaborn color palette to use\n",
    "colors = sns.color_palette('pastel')[0:5]\n",
    "\n",
    "#create pie chart\n",
    "plt.pie(data, labels = labels, colors = colors, autopct='%.0f%%')\n",
    "plt.title(\"Percent of stages in each year\")\n",
    "plt.show()"
   ]
  },
  {
   "cell_type": "code",
   "execution_count": 78,
   "id": "a5c4f65d",
   "metadata": {},
   "outputs": [
    {
     "data": {
      "text/html": [
       "<div>\n",
       "<style scoped>\n",
       "    .dataframe tbody tr th:only-of-type {\n",
       "        vertical-align: middle;\n",
       "    }\n",
       "\n",
       "    .dataframe tbody tr th {\n",
       "        vertical-align: top;\n",
       "    }\n",
       "\n",
       "    .dataframe thead th {\n",
       "        text-align: right;\n",
       "    }\n",
       "</style>\n",
       "<table border=\"1\" class=\"dataframe\">\n",
       "  <thead>\n",
       "    <tr style=\"text-align: right;\">\n",
       "      <th></th>\n",
       "      <th>Company/Brand</th>\n",
       "      <th>Sector</th>\n",
       "      <th>Stage</th>\n",
       "      <th>Amount($)</th>\n",
       "      <th>What it does</th>\n",
       "      <th>City</th>\n",
       "      <th>Sub city</th>\n",
       "      <th>Year</th>\n",
       "      <th>Founded</th>\n",
       "      <th>Founders</th>\n",
       "      <th>Investor</th>\n",
       "    </tr>\n",
       "  </thead>\n",
       "  <tbody>\n",
       "    <tr>\n",
       "      <th>0</th>\n",
       "      <td>TheCollegeFever</td>\n",
       "      <td>Brand Marketing</td>\n",
       "      <td>Seed</td>\n",
       "      <td>250000.0</td>\n",
       "      <td>TheCollegeFever is a hub for fun, fiesta and f...</td>\n",
       "      <td>Bangalore</td>\n",
       "      <td>Karnataka</td>\n",
       "      <td>2018</td>\n",
       "      <td>NaN</td>\n",
       "      <td>NaN</td>\n",
       "      <td>NaN</td>\n",
       "    </tr>\n",
       "    <tr>\n",
       "      <th>1</th>\n",
       "      <td>Happy Cow Dairy</td>\n",
       "      <td>Agriculture</td>\n",
       "      <td>Seed</td>\n",
       "      <td>40000000.0</td>\n",
       "      <td>A startup which aggregates milk from dairy far...</td>\n",
       "      <td>Mumbai</td>\n",
       "      <td>Maharashtra</td>\n",
       "      <td>2018</td>\n",
       "      <td>NaN</td>\n",
       "      <td>NaN</td>\n",
       "      <td>NaN</td>\n",
       "    </tr>\n",
       "    <tr>\n",
       "      <th>2</th>\n",
       "      <td>MyLoanCare</td>\n",
       "      <td>Credit</td>\n",
       "      <td>Series A</td>\n",
       "      <td>65000000.0</td>\n",
       "      <td>Leading Online Loans Marketplace in India</td>\n",
       "      <td>Gurgaon</td>\n",
       "      <td>Haryana</td>\n",
       "      <td>2018</td>\n",
       "      <td>NaN</td>\n",
       "      <td>NaN</td>\n",
       "      <td>NaN</td>\n",
       "    </tr>\n",
       "    <tr>\n",
       "      <th>3</th>\n",
       "      <td>PayMe India</td>\n",
       "      <td>Financial Services</td>\n",
       "      <td>Angel</td>\n",
       "      <td>2000000.0</td>\n",
       "      <td>PayMe India is an innovative FinTech organizat...</td>\n",
       "      <td>Noida</td>\n",
       "      <td>Uttar Pradesh</td>\n",
       "      <td>2018</td>\n",
       "      <td>NaN</td>\n",
       "      <td>NaN</td>\n",
       "      <td>NaN</td>\n",
       "    </tr>\n",
       "    <tr>\n",
       "      <th>4</th>\n",
       "      <td>Eunimart</td>\n",
       "      <td>E-Commerce Platforms</td>\n",
       "      <td>Seed</td>\n",
       "      <td>0.0</td>\n",
       "      <td>Eunimart is a one stop solution for merchants ...</td>\n",
       "      <td>Hyderabad</td>\n",
       "      <td>Andhra Pradesh</td>\n",
       "      <td>2018</td>\n",
       "      <td>NaN</td>\n",
       "      <td>NaN</td>\n",
       "      <td>NaN</td>\n",
       "    </tr>\n",
       "    <tr>\n",
       "      <th>...</th>\n",
       "      <td>...</td>\n",
       "      <td>...</td>\n",
       "      <td>...</td>\n",
       "      <td>...</td>\n",
       "      <td>...</td>\n",
       "      <td>...</td>\n",
       "      <td>...</td>\n",
       "      <td>...</td>\n",
       "      <td>...</td>\n",
       "      <td>...</td>\n",
       "      <td>...</td>\n",
       "    </tr>\n",
       "    <tr>\n",
       "      <th>1201</th>\n",
       "      <td>Gigforce</td>\n",
       "      <td>Staffing &amp; Recruiting</td>\n",
       "      <td>Pre-series A</td>\n",
       "      <td>3000000.0</td>\n",
       "      <td>A gig/on-demand staffing company.</td>\n",
       "      <td>Gurugram</td>\n",
       "      <td>NaN</td>\n",
       "      <td>2021</td>\n",
       "      <td>2019</td>\n",
       "      <td>Chirag Mittal, Anirudh Syal</td>\n",
       "      <td>Endiya Partners</td>\n",
       "    </tr>\n",
       "    <tr>\n",
       "      <th>1202</th>\n",
       "      <td>Vahdam</td>\n",
       "      <td>Food &amp; Beverages</td>\n",
       "      <td>Series D</td>\n",
       "      <td>20000000.0</td>\n",
       "      <td>VAHDAM is among the world’s first vertically i...</td>\n",
       "      <td>New Delhi</td>\n",
       "      <td>NaN</td>\n",
       "      <td>2021</td>\n",
       "      <td>2015</td>\n",
       "      <td>Bala Sarda</td>\n",
       "      <td>IIFL AMC</td>\n",
       "    </tr>\n",
       "    <tr>\n",
       "      <th>1203</th>\n",
       "      <td>Leap Finance</td>\n",
       "      <td>Financial Services</td>\n",
       "      <td>Series C</td>\n",
       "      <td>55000000.0</td>\n",
       "      <td>International education loans for high potenti...</td>\n",
       "      <td>Bangalore</td>\n",
       "      <td>NaN</td>\n",
       "      <td>2021</td>\n",
       "      <td>2019</td>\n",
       "      <td>Arnav Kumar, Vaibhav Singh</td>\n",
       "      <td>Owl Ventures</td>\n",
       "    </tr>\n",
       "    <tr>\n",
       "      <th>1204</th>\n",
       "      <td>CollegeDekho</td>\n",
       "      <td>EdTech</td>\n",
       "      <td>Series B</td>\n",
       "      <td>26000000.0</td>\n",
       "      <td>Collegedekho.com is Student’s Partner, Friend ...</td>\n",
       "      <td>Gurugram</td>\n",
       "      <td>NaN</td>\n",
       "      <td>2021</td>\n",
       "      <td>2015</td>\n",
       "      <td>Ruchir Arora</td>\n",
       "      <td>Winter Capital, ETS, Man Capital</td>\n",
       "    </tr>\n",
       "    <tr>\n",
       "      <th>1205</th>\n",
       "      <td>WeRize</td>\n",
       "      <td>Financial Services</td>\n",
       "      <td>Series A</td>\n",
       "      <td>8000000.0</td>\n",
       "      <td>India’s first socially distributed full stack ...</td>\n",
       "      <td>Bangalore</td>\n",
       "      <td>NaN</td>\n",
       "      <td>2021</td>\n",
       "      <td>2019</td>\n",
       "      <td>Vishal Chopra, Himanshu Gupta</td>\n",
       "      <td>3one4 Capital, Kalaari Capital</td>\n",
       "    </tr>\n",
       "  </tbody>\n",
       "</table>\n",
       "<p>2778 rows × 11 columns</p>\n",
       "</div>"
      ],
      "text/plain": [
       "        Company/Brand                 Sector         Stage   Amount($)  \\\n",
       "0     TheCollegeFever        Brand Marketing          Seed    250000.0   \n",
       "1     Happy Cow Dairy            Agriculture          Seed  40000000.0   \n",
       "2          MyLoanCare                 Credit      Series A  65000000.0   \n",
       "3         PayMe India     Financial Services         Angel   2000000.0   \n",
       "4            Eunimart   E-Commerce Platforms          Seed         0.0   \n",
       "...               ...                    ...           ...         ...   \n",
       "1201         Gigforce  Staffing & Recruiting  Pre-series A   3000000.0   \n",
       "1202           Vahdam       Food & Beverages      Series D  20000000.0   \n",
       "1203     Leap Finance     Financial Services      Series C  55000000.0   \n",
       "1204     CollegeDekho                 EdTech      Series B  26000000.0   \n",
       "1205           WeRize     Financial Services      Series A   8000000.0   \n",
       "\n",
       "                                           What it does       City  \\\n",
       "0     TheCollegeFever is a hub for fun, fiesta and f...  Bangalore   \n",
       "1     A startup which aggregates milk from dairy far...     Mumbai   \n",
       "2             Leading Online Loans Marketplace in India    Gurgaon   \n",
       "3     PayMe India is an innovative FinTech organizat...      Noida   \n",
       "4     Eunimart is a one stop solution for merchants ...  Hyderabad   \n",
       "...                                                 ...        ...   \n",
       "1201                  A gig/on-demand staffing company.   Gurugram   \n",
       "1202  VAHDAM is among the world’s first vertically i...  New Delhi   \n",
       "1203  International education loans for high potenti...  Bangalore   \n",
       "1204  Collegedekho.com is Student’s Partner, Friend ...   Gurugram   \n",
       "1205  India’s first socially distributed full stack ...  Bangalore   \n",
       "\n",
       "             Sub city  Year Founded                       Founders  \\\n",
       "0           Karnataka  2018     NaN                            NaN   \n",
       "1         Maharashtra  2018     NaN                            NaN   \n",
       "2             Haryana  2018     NaN                            NaN   \n",
       "3       Uttar Pradesh  2018     NaN                            NaN   \n",
       "4      Andhra Pradesh  2018     NaN                            NaN   \n",
       "...               ...   ...     ...                            ...   \n",
       "1201              NaN  2021    2019    Chirag Mittal, Anirudh Syal   \n",
       "1202              NaN  2021    2015                     Bala Sarda   \n",
       "1203              NaN  2021    2019     Arnav Kumar, Vaibhav Singh   \n",
       "1204              NaN  2021    2015                   Ruchir Arora   \n",
       "1205              NaN  2021    2019  Vishal Chopra, Himanshu Gupta   \n",
       "\n",
       "                              Investor  \n",
       "0                                  NaN  \n",
       "1                                  NaN  \n",
       "2                                  NaN  \n",
       "3                                  NaN  \n",
       "4                                  NaN  \n",
       "...                                ...  \n",
       "1201                   Endiya Partners  \n",
       "1202                          IIFL AMC  \n",
       "1203                      Owl Ventures  \n",
       "1204  Winter Capital, ETS, Man Capital  \n",
       "1205    3one4 Capital, Kalaari Capital  \n",
       "\n",
       "[2778 rows x 11 columns]"
      ]
     },
     "execution_count": 78,
     "metadata": {},
     "output_type": "execute_result"
    }
   ],
   "source": [
    "df_main"
   ]
  },
  {
   "cell_type": "code",
   "execution_count": null,
   "id": "327620e9",
   "metadata": {},
   "outputs": [],
   "source": []
  },
  {
   "cell_type": "code",
   "execution_count": null,
   "id": "e3e108fe",
   "metadata": {},
   "outputs": [],
   "source": []
  }
 ],
 "metadata": {
  "kernelspec": {
   "display_name": "Python 3 (ipykernel)",
   "language": "python",
   "name": "python3"
  },
  "language_info": {
   "codemirror_mode": {
    "name": "ipython",
    "version": 3
   },
   "file_extension": ".py",
   "mimetype": "text/x-python",
   "name": "python",
   "nbconvert_exporter": "python",
   "pygments_lexer": "ipython3",
   "version": "3.9.7"
  }
 },
 "nbformat": 4,
 "nbformat_minor": 5
}
